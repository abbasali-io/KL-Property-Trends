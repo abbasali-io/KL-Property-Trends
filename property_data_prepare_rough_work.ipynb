{
 "nbformat": 4,
 "nbformat_minor": 2,
 "metadata": {
  "language_info": {
   "name": "python",
   "codemirror_mode": {
    "name": "ipython",
    "version": 3
   },
   "version": "3.7.4-final"
  },
  "orig_nbformat": 2,
  "file_extension": ".py",
  "mimetype": "text/x-python",
  "name": "python",
  "npconvert_exporter": "python",
  "pygments_lexer": "ipython3",
  "version": 3,
  "kernelspec": {
   "name": "python37464bitbaseconda0fd57fe6ee6a4db19ffcb7b8649e1809",
   "display_name": "Python 3.7.4 64-bit ('base': conda)"
  }
 },
 "cells": [
  {
   "cell_type": "markdown",
   "execution_count": 3,
   "metadata": {},
   "outputs": [
    {
     "ename": "SyntaxError",
     "evalue": "invalid syntax (<ipython-input-3-38a4be743c2d>, line 1)",
     "output_type": "error",
     "traceback": [
      "\u001b[0;36m  File \u001b[0;32m\"<ipython-input-3-38a4be743c2d>\"\u001b[0;36m, line \u001b[0;32m1\u001b[0m\n\u001b[0;31m    <h2>Kuala Lumpur Property Prices</h2>\u001b[0m\n\u001b[0m    ^\u001b[0m\n\u001b[0;31mSyntaxError\u001b[0m\u001b[0;31m:\u001b[0m invalid syntax\n"
     ]
    }
   ],
   "source": [
    "<h2>Kuala Lumpur Property Prices</h2>\n",
    "Clean the Property Prices for Kuala Lumpur"
   ]
  },
  {
   "source": [
    "from matplotlib import pyplot as plt\n",
    "import seaborn as sns\n",
    "# from tabulate import tabulate\n",
    "import numpy as np\n",
    "import pandas as pd\n",
    "import re\n",
    "from IPython import display\n",
    "%matplotlib inline\n",
    "\n",
    "# pd.options.display.max_columns = 500\n",
    "# pd.options.display.max_rows = 500\n",
    "\n",
    "# Use 3 decimal places in output display\n",
    "# pd.set_option(\"display.precision\", 3)\n",
    "\n",
    "# Don't wrap repr(DataFrame) across additional lines\n",
    "# pd.set_option(\"display.expand_frame_repr\", False)\n",
    "\n",
    "# Set max rows displayed in output to 25\n",
    "# pd.set_option(\"display.max_rows\", 250)\n",
    "\n",
    "# tblt = lambda df:tabulate(df,headers='keys',tablefmt='psql')\n",
    "\n",
    "df = pd.read_csv('./kl_property_data.csv')\n",
    "df.head()"
   ],
   "cell_type": "code",
   "outputs": [
    {
     "output_type": "execute_result",
     "data": {
      "text/plain": "                          Location         Price Rooms  Bathrooms  Car Parks  \\\n0               KLCC, Kuala Lumpur  RM 1,250,000   2+1        3.0        2.0   \n1  Damansara Heights, Kuala Lumpur  RM 6,800,000     6        7.0        NaN   \n2            Dutamas, Kuala Lumpur  RM 1,030,000     3        4.0        2.0   \n3             Cheras, Kuala Lumpur           NaN   NaN        NaN        NaN   \n4        Bukit Jalil, Kuala Lumpur    RM 900,000   4+1        3.0        2.0   \n\n          Property Type                      Size        Furnishing  \n0    Serviced Residence  Built-up : 1,335 sq. ft.   Fully Furnished  \n1              Bungalow  Land area : 6900 sq. ft.  Partly Furnished  \n2  Condominium (Corner)  Built-up : 1,875 sq. ft.  Partly Furnished  \n3                   NaN                       NaN               NaN  \n4  Condominium (Corner)  Built-up : 1,513 sq. ft.  Partly Furnished  ",
      "text/html": "<div>\n<style scoped>\n    .dataframe tbody tr th:only-of-type {\n        vertical-align: middle;\n    }\n\n    .dataframe tbody tr th {\n        vertical-align: top;\n    }\n\n    .dataframe thead th {\n        text-align: right;\n    }\n</style>\n<table border=\"1\" class=\"dataframe\">\n  <thead>\n    <tr style=\"text-align: right;\">\n      <th></th>\n      <th>Location</th>\n      <th>Price</th>\n      <th>Rooms</th>\n      <th>Bathrooms</th>\n      <th>Car Parks</th>\n      <th>Property Type</th>\n      <th>Size</th>\n      <th>Furnishing</th>\n    </tr>\n  </thead>\n  <tbody>\n    <tr>\n      <td>0</td>\n      <td>KLCC, Kuala Lumpur</td>\n      <td>RM 1,250,000</td>\n      <td>2+1</td>\n      <td>3.0</td>\n      <td>2.0</td>\n      <td>Serviced Residence</td>\n      <td>Built-up : 1,335 sq. ft.</td>\n      <td>Fully Furnished</td>\n    </tr>\n    <tr>\n      <td>1</td>\n      <td>Damansara Heights, Kuala Lumpur</td>\n      <td>RM 6,800,000</td>\n      <td>6</td>\n      <td>7.0</td>\n      <td>NaN</td>\n      <td>Bungalow</td>\n      <td>Land area : 6900 sq. ft.</td>\n      <td>Partly Furnished</td>\n    </tr>\n    <tr>\n      <td>2</td>\n      <td>Dutamas, Kuala Lumpur</td>\n      <td>RM 1,030,000</td>\n      <td>3</td>\n      <td>4.0</td>\n      <td>2.0</td>\n      <td>Condominium (Corner)</td>\n      <td>Built-up : 1,875 sq. ft.</td>\n      <td>Partly Furnished</td>\n    </tr>\n    <tr>\n      <td>3</td>\n      <td>Cheras, Kuala Lumpur</td>\n      <td>NaN</td>\n      <td>NaN</td>\n      <td>NaN</td>\n      <td>NaN</td>\n      <td>NaN</td>\n      <td>NaN</td>\n      <td>NaN</td>\n    </tr>\n    <tr>\n      <td>4</td>\n      <td>Bukit Jalil, Kuala Lumpur</td>\n      <td>RM 900,000</td>\n      <td>4+1</td>\n      <td>3.0</td>\n      <td>2.0</td>\n      <td>Condominium (Corner)</td>\n      <td>Built-up : 1,513 sq. ft.</td>\n      <td>Partly Furnished</td>\n    </tr>\n  </tbody>\n</table>\n</div>"
     },
     "metadata": {},
     "execution_count": 33
    }
   ],
   "metadata": {},
   "execution_count": 33
  },
  {
   "source": [
    "df[df[\"Property Type\"].isnull() == True]"
   ],
   "cell_type": "code",
   "outputs": [
    {
     "output_type": "execute_result",
     "data": {
      "text/plain": "                                            Location Price Rooms  Bathrooms  \\\n3                               Cheras, Kuala Lumpur   NaN   NaN        NaN   \n6                              Seputeh, Kuala Lumpur   NaN   NaN        NaN   \n10                        Ampang Hilir, Kuala Lumpur   NaN   NaN        NaN   \n14                         Bukit Jalil, Kuala Lumpur   NaN   NaN        NaN   \n27                          Mont Kiara, Kuala Lumpur   NaN   NaN        NaN   \n30   Jalan Klang Lama (Old Klang Road), Kuala Lumpur   NaN   NaN        NaN   \n34                       Jalan Kuching, Kuala Lumpur   NaN   NaN        NaN   \n38                              Cheras, Kuala Lumpur   NaN   NaN        NaN   \n51                 Taman Tun Dr Ismail, Kuala Lumpur   NaN   NaN        NaN   \n54                 Taman Tun Dr Ismail, Kuala Lumpur   NaN   NaN        NaN   \n58                      Taman Melawati, Kuala Lumpur   NaN   NaN        NaN   \n62                              Sentul, Kuala Lumpur   NaN   NaN        NaN   \n75                             Bangsar, Kuala Lumpur   NaN   NaN        NaN   \n78                             KL City, Kuala Lumpur   NaN   NaN        NaN   \n82                       Bukit Bintang, Kuala Lumpur   NaN   NaN        NaN   \n86                   Damansara Heights, Kuala Lumpur   NaN   NaN        NaN   \n99                              Cheras, Kuala Lumpur   NaN   NaN        NaN   \n102                             Cheras, Kuala Lumpur   NaN   NaN        NaN   \n106                      Bukit Bintang, Kuala Lumpur   NaN   NaN        NaN   \n110                Jalan Sultan Ismail, Kuala Lumpur   NaN   NaN        NaN   \n123                      Jalan Kuching, Kuala Lumpur   NaN   NaN        NaN   \n126                        Kuchai Lama, Kuala Lumpur   NaN   NaN        NaN   \n130                            Setapak, Kuala Lumpur   NaN   NaN        NaN   \n134                         KL Sentral, Kuala Lumpur   NaN   NaN        NaN   \n147                        Bukit Jalil, Kuala Lumpur   NaN   NaN        NaN   \n\n     Car Parks Property Type Size Furnishing  \n3          NaN           NaN  NaN        NaN  \n6          NaN           NaN  NaN        NaN  \n10         NaN           NaN  NaN        NaN  \n14         NaN           NaN  NaN        NaN  \n27         NaN           NaN  NaN        NaN  \n30         NaN           NaN  NaN        NaN  \n34         NaN           NaN  NaN        NaN  \n38         NaN           NaN  NaN        NaN  \n51         NaN           NaN  NaN        NaN  \n54         NaN           NaN  NaN        NaN  \n58         NaN           NaN  NaN        NaN  \n62         NaN           NaN  NaN        NaN  \n75         NaN           NaN  NaN        NaN  \n78         NaN           NaN  NaN        NaN  \n82         NaN           NaN  NaN        NaN  \n86         NaN           NaN  NaN        NaN  \n99         NaN           NaN  NaN        NaN  \n102        NaN           NaN  NaN        NaN  \n106        NaN           NaN  NaN        NaN  \n110        NaN           NaN  NaN        NaN  \n123        NaN           NaN  NaN        NaN  \n126        NaN           NaN  NaN        NaN  \n130        NaN           NaN  NaN        NaN  \n134        NaN           NaN  NaN        NaN  \n147        NaN           NaN  NaN        NaN  ",
      "text/html": "<div>\n<style scoped>\n    .dataframe tbody tr th:only-of-type {\n        vertical-align: middle;\n    }\n\n    .dataframe tbody tr th {\n        vertical-align: top;\n    }\n\n    .dataframe thead th {\n        text-align: right;\n    }\n</style>\n<table border=\"1\" class=\"dataframe\">\n  <thead>\n    <tr style=\"text-align: right;\">\n      <th></th>\n      <th>Location</th>\n      <th>Price</th>\n      <th>Rooms</th>\n      <th>Bathrooms</th>\n      <th>Car Parks</th>\n      <th>Property Type</th>\n      <th>Size</th>\n      <th>Furnishing</th>\n    </tr>\n  </thead>\n  <tbody>\n    <tr>\n      <td>3</td>\n      <td>Cheras, Kuala Lumpur</td>\n      <td>NaN</td>\n      <td>NaN</td>\n      <td>NaN</td>\n      <td>NaN</td>\n      <td>NaN</td>\n      <td>NaN</td>\n      <td>NaN</td>\n    </tr>\n    <tr>\n      <td>6</td>\n      <td>Seputeh, Kuala Lumpur</td>\n      <td>NaN</td>\n      <td>NaN</td>\n      <td>NaN</td>\n      <td>NaN</td>\n      <td>NaN</td>\n      <td>NaN</td>\n      <td>NaN</td>\n    </tr>\n    <tr>\n      <td>10</td>\n      <td>Ampang Hilir, Kuala Lumpur</td>\n      <td>NaN</td>\n      <td>NaN</td>\n      <td>NaN</td>\n      <td>NaN</td>\n      <td>NaN</td>\n      <td>NaN</td>\n      <td>NaN</td>\n    </tr>\n    <tr>\n      <td>14</td>\n      <td>Bukit Jalil, Kuala Lumpur</td>\n      <td>NaN</td>\n      <td>NaN</td>\n      <td>NaN</td>\n      <td>NaN</td>\n      <td>NaN</td>\n      <td>NaN</td>\n      <td>NaN</td>\n    </tr>\n    <tr>\n      <td>27</td>\n      <td>Mont Kiara, Kuala Lumpur</td>\n      <td>NaN</td>\n      <td>NaN</td>\n      <td>NaN</td>\n      <td>NaN</td>\n      <td>NaN</td>\n      <td>NaN</td>\n      <td>NaN</td>\n    </tr>\n    <tr>\n      <td>30</td>\n      <td>Jalan Klang Lama (Old Klang Road), Kuala Lumpur</td>\n      <td>NaN</td>\n      <td>NaN</td>\n      <td>NaN</td>\n      <td>NaN</td>\n      <td>NaN</td>\n      <td>NaN</td>\n      <td>NaN</td>\n    </tr>\n    <tr>\n      <td>34</td>\n      <td>Jalan Kuching, Kuala Lumpur</td>\n      <td>NaN</td>\n      <td>NaN</td>\n      <td>NaN</td>\n      <td>NaN</td>\n      <td>NaN</td>\n      <td>NaN</td>\n      <td>NaN</td>\n    </tr>\n    <tr>\n      <td>38</td>\n      <td>Cheras, Kuala Lumpur</td>\n      <td>NaN</td>\n      <td>NaN</td>\n      <td>NaN</td>\n      <td>NaN</td>\n      <td>NaN</td>\n      <td>NaN</td>\n      <td>NaN</td>\n    </tr>\n    <tr>\n      <td>51</td>\n      <td>Taman Tun Dr Ismail, Kuala Lumpur</td>\n      <td>NaN</td>\n      <td>NaN</td>\n      <td>NaN</td>\n      <td>NaN</td>\n      <td>NaN</td>\n      <td>NaN</td>\n      <td>NaN</td>\n    </tr>\n    <tr>\n      <td>54</td>\n      <td>Taman Tun Dr Ismail, Kuala Lumpur</td>\n      <td>NaN</td>\n      <td>NaN</td>\n      <td>NaN</td>\n      <td>NaN</td>\n      <td>NaN</td>\n      <td>NaN</td>\n      <td>NaN</td>\n    </tr>\n    <tr>\n      <td>58</td>\n      <td>Taman Melawati, Kuala Lumpur</td>\n      <td>NaN</td>\n      <td>NaN</td>\n      <td>NaN</td>\n      <td>NaN</td>\n      <td>NaN</td>\n      <td>NaN</td>\n      <td>NaN</td>\n    </tr>\n    <tr>\n      <td>62</td>\n      <td>Sentul, Kuala Lumpur</td>\n      <td>NaN</td>\n      <td>NaN</td>\n      <td>NaN</td>\n      <td>NaN</td>\n      <td>NaN</td>\n      <td>NaN</td>\n      <td>NaN</td>\n    </tr>\n    <tr>\n      <td>75</td>\n      <td>Bangsar, Kuala Lumpur</td>\n      <td>NaN</td>\n      <td>NaN</td>\n      <td>NaN</td>\n      <td>NaN</td>\n      <td>NaN</td>\n      <td>NaN</td>\n      <td>NaN</td>\n    </tr>\n    <tr>\n      <td>78</td>\n      <td>KL City, Kuala Lumpur</td>\n      <td>NaN</td>\n      <td>NaN</td>\n      <td>NaN</td>\n      <td>NaN</td>\n      <td>NaN</td>\n      <td>NaN</td>\n      <td>NaN</td>\n    </tr>\n    <tr>\n      <td>82</td>\n      <td>Bukit Bintang, Kuala Lumpur</td>\n      <td>NaN</td>\n      <td>NaN</td>\n      <td>NaN</td>\n      <td>NaN</td>\n      <td>NaN</td>\n      <td>NaN</td>\n      <td>NaN</td>\n    </tr>\n    <tr>\n      <td>86</td>\n      <td>Damansara Heights, Kuala Lumpur</td>\n      <td>NaN</td>\n      <td>NaN</td>\n      <td>NaN</td>\n      <td>NaN</td>\n      <td>NaN</td>\n      <td>NaN</td>\n      <td>NaN</td>\n    </tr>\n    <tr>\n      <td>99</td>\n      <td>Cheras, Kuala Lumpur</td>\n      <td>NaN</td>\n      <td>NaN</td>\n      <td>NaN</td>\n      <td>NaN</td>\n      <td>NaN</td>\n      <td>NaN</td>\n      <td>NaN</td>\n    </tr>\n    <tr>\n      <td>102</td>\n      <td>Cheras, Kuala Lumpur</td>\n      <td>NaN</td>\n      <td>NaN</td>\n      <td>NaN</td>\n      <td>NaN</td>\n      <td>NaN</td>\n      <td>NaN</td>\n      <td>NaN</td>\n    </tr>\n    <tr>\n      <td>106</td>\n      <td>Bukit Bintang, Kuala Lumpur</td>\n      <td>NaN</td>\n      <td>NaN</td>\n      <td>NaN</td>\n      <td>NaN</td>\n      <td>NaN</td>\n      <td>NaN</td>\n      <td>NaN</td>\n    </tr>\n    <tr>\n      <td>110</td>\n      <td>Jalan Sultan Ismail, Kuala Lumpur</td>\n      <td>NaN</td>\n      <td>NaN</td>\n      <td>NaN</td>\n      <td>NaN</td>\n      <td>NaN</td>\n      <td>NaN</td>\n      <td>NaN</td>\n    </tr>\n    <tr>\n      <td>123</td>\n      <td>Jalan Kuching, Kuala Lumpur</td>\n      <td>NaN</td>\n      <td>NaN</td>\n      <td>NaN</td>\n      <td>NaN</td>\n      <td>NaN</td>\n      <td>NaN</td>\n      <td>NaN</td>\n    </tr>\n    <tr>\n      <td>126</td>\n      <td>Kuchai Lama, Kuala Lumpur</td>\n      <td>NaN</td>\n      <td>NaN</td>\n      <td>NaN</td>\n      <td>NaN</td>\n      <td>NaN</td>\n      <td>NaN</td>\n      <td>NaN</td>\n    </tr>\n    <tr>\n      <td>130</td>\n      <td>Setapak, Kuala Lumpur</td>\n      <td>NaN</td>\n      <td>NaN</td>\n      <td>NaN</td>\n      <td>NaN</td>\n      <td>NaN</td>\n      <td>NaN</td>\n      <td>NaN</td>\n    </tr>\n    <tr>\n      <td>134</td>\n      <td>KL Sentral, Kuala Lumpur</td>\n      <td>NaN</td>\n      <td>NaN</td>\n      <td>NaN</td>\n      <td>NaN</td>\n      <td>NaN</td>\n      <td>NaN</td>\n      <td>NaN</td>\n    </tr>\n    <tr>\n      <td>147</td>\n      <td>Bukit Jalil, Kuala Lumpur</td>\n      <td>NaN</td>\n      <td>NaN</td>\n      <td>NaN</td>\n      <td>NaN</td>\n      <td>NaN</td>\n      <td>NaN</td>\n      <td>NaN</td>\n    </tr>\n  </tbody>\n</table>\n</div>"
     },
     "metadata": {},
     "execution_count": 34
    }
   ],
   "metadata": {},
   "execution_count": 34
  },
  {
   "cell_type": "markdown",
   "execution_count": null,
   "metadata": {},
   "outputs": [],
   "source": [
    "<h4>Check the Shape of the Data Frame</h4>"
   ]
  },
  {
   "source": [
    "df.shape"
   ],
   "cell_type": "code",
   "outputs": [
    {
     "output_type": "execute_result",
     "data": {
      "text/plain": "(53883, 8)"
     },
     "metadata": {},
     "execution_count": 35
    }
   ],
   "metadata": {},
   "execution_count": 35
  },
  {
   "cell_type": "markdown",
   "execution_count": null,
   "metadata": {},
   "outputs": [],
   "source": [
    "<h2>Location:</h2>\n",
    "<h4>Clean the Locations Data</h4>\n",
    "Clean the 'Kuala Lumpur' word, since all data belongs to the same city, also remove Capitalization inconsistencies"
   ]
  },
  {
   "source": [
    "df['Location'] = df['Location'].str.lower() # convert all the cities to lower case \n",
    "df['Location'] = df['Location'].str.replace(r\", kuala lumpur$\", \"\") # remove ', kuala lumpur' from the area name\n",
    "df['Location'].value_counts() # show unique values"
   ],
   "cell_type": "code",
   "outputs": [
    {
     "output_type": "execute_result",
     "data": {
      "text/plain": "mont kiara                           5897\nklcc                                 5230\ncheras                               4533\njalan klang lama (old klang road)    2854\nsetapak                              2710\n                                     ... \ntaman tar                               1\nu-thant                                 1\nsri kembangan                           1\ntaman yarl oug                          1\nduta nusantara                          1\nName: Location, Length: 107, dtype: int64"
     },
     "metadata": {},
     "execution_count": 36
    }
   ],
   "metadata": {},
   "execution_count": 36
  },
  {
   "cell_type": "markdown",
   "execution_count": null,
   "metadata": {},
   "outputs": [],
   "source": [
    "<h2>Rooms:</h2>\n",
    "<h4>Clean the Rooms</h4>\n",
    "- split the '2+1' strings, convert to integers and add to get total area</br>\n",
    "- also handle the words e.g. 'Studio'</br>\n",
    "- also handle the 'Above' words</br>\n",
    "- also Convert Rooms to integers"
   ]
  },
  {
   "source": [
    "df.Rooms.value_counts() # check out the inconsistencies by getting unique values"
   ],
   "cell_type": "code",
   "outputs": [
    {
     "output_type": "execute_result",
     "data": {
      "text/plain": "3           14249\n3+1          8070\n2            5407\n4            5018\n4+1          4404\n5+1          2340\n1            2322\n5            2065\n2+1          1938\n1+1          1191\n6             937\nStudio        874\n6+1           807\n4+2           479\n3+2           477\n5+2           410\n7             358\n7+1           237\n2+2           132\n8             125\n6+             86\n8+1            64\n9              40\n7+             32\n10             25\n9+1            14\n8+             14\n10+             8\n1+2             8\n12              8\n20 Above        8\n11              6\n10+1            4\n12+             4\n13+             3\n11+1            3\n16              2\n9+              2\n14              2\n13+1            1\n18              1\n13              1\n15+             1\nName: Rooms, dtype: int64"
     },
     "metadata": {},
     "execution_count": 37
    }
   ],
   "metadata": {},
   "execution_count": 37
  },
  {
   "source": [
    "def clean_trailing_plus(rooms):\n",
    "    if rooms.endswith(\"+\"):\n",
    "        return int(rooms[:-1])         # remove the last character i.e. +\n",
    "    if '+' in rooms:\n",
    "        xx = rooms.split(\"+\")          # split the string on '+' sign\n",
    "        return int(xx[0]) + int(xx[1]) # add both sides of the string\n",
    "    if 'Studio' in rooms:\n",
    "        return 1                       # Studio flats are generally Single roomed\n",
    "    if '20 Above' in rooms:\n",
    "        return 20                      # assume 20 above is rated at 20 since the number is only 8 units, we can safely assume this\n",
    "    else:\n",
    "        return rooms                   # return the number of rooms if nothing above matches\n",
    "\n",
    "df['Rooms']= df['Rooms'].astype(str).apply(clean_trailing_plus) # Apply cleaning operation\n",
    "\n",
    "#Convert 'nan' in Rooms to 0 and convert Rooms to integer\n",
    "df['Rooms'] = df['Rooms'].str.replace('nan', '0')\n",
    "df['Rooms'] = pd.to_numeric(df['Rooms'])\n",
    "\n",
    "print(df['Rooms'].value_counts())\n",
    ""
   ],
   "cell_type": "code",
   "outputs": [
    {
     "output_type": "stream",
     "name": "stdout",
     "text": "3.0     14249\n2.0      5407\n4.0      5018\n1.0      2322\n5.0      2065\n0.0      1706\n6.0       937\n7.0       358\n8.0       125\n9.0        40\n10.0       25\n12.0        8\n11.0        6\n16.0        2\n14.0        2\n18.0        1\n13.0        1\nName: Rooms, dtype: int64\n"
    }
   ],
   "metadata": {},
   "execution_count": 38
  },
  {
   "cell_type": "markdown",
   "execution_count": null,
   "metadata": {},
   "outputs": [],
   "source": [
    "<h2>Car Parks:</h2>\n",
    "<h4>Looks Okay</h4>\n",
    "No Need Processing / Cleaning"
   ]
  },
  {
   "source": [
    "df['Car Parks'].value_counts() # View Car Parks unique values"
   ],
   "cell_type": "code",
   "outputs": [
    {
     "output_type": "execute_result",
     "data": {
      "text/plain": "2.0     15314\n1.0     13772\n3.0      3838\n4.0      1956\n6.0       641\n5.0       508\n8.0        97\n10.0       78\n7.0        64\n12.0        7\n15.0        7\n13.0        7\n9.0         5\n28.0        4\n20.0        4\n30.0        4\n11.0        4\n16.0        2\n17.0        2\n18.0        1\n24.0        1\nName: Car Parks, dtype: int64"
     },
     "metadata": {},
     "execution_count": 39
    }
   ],
   "metadata": {},
   "execution_count": 39
  },
  {
   "cell_type": "markdown",
   "execution_count": null,
   "metadata": {},
   "outputs": [],
   "source": [
    "<h2>Bathrooms:</h2>\n",
    "<h4>Looks Okay</h4>\n",
    "No Need Processing / Cleaning"
   ]
  },
  {
   "source": [
    "df['Bathrooms'].value_counts() # View Bathrooms unique values"
   ],
   "cell_type": "code",
   "outputs": [
    {
     "output_type": "execute_result",
     "data": {
      "text/plain": "2.0     21442\n3.0      9496\n4.0      6629\n5.0      4787\n1.0      4516\n6.0      3245\n7.0      1063\n8.0       417\n9.0       147\n10.0       72\n12.0       15\n11.0       13\n20.0       12\n15.0        6\n13.0        5\n14.0        4\n16.0        1\nName: Bathrooms, dtype: int64"
     },
     "metadata": {},
     "execution_count": 40
    }
   ],
   "metadata": {},
   "execution_count": 40
  },
  {
   "cell_type": "markdown",
   "execution_count": null,
   "metadata": {},
   "outputs": [],
   "source": [
    "<h2>Property Type:</h2>\n",
    "<h4>Clean the Property Types Data</h4>\n",
    "We ll try n group similar type of properties into a more simpler form of categories"
   ]
  },
  {
   "source": [
    "def clean_property_types(propType):\n",
    "    # Define the cleaned types without the extra details\n",
    "    cleanTypes = [                     \n",
    "        'Condominium',\n",
    "        'Serviced Residence',\n",
    "        'Terrace/Link House',\n",
    "        'Bungalow',\n",
    "        'Semi-detached House',\n",
    "        'Apartment',\n",
    "        'Residential Land',\n",
    "        'Townhouse',\n",
    "        'Flat',\n",
    "        'Cluster House',\n",
    "    ]\n",
    "\n",
    "    # foreach type in cleanType, find the Property Type and return result\n",
    "    for typ in cleanTypes:\n",
    "        if typ in propType:\n",
    "            return typ\n",
    "        \n",
    "# Apply the above function and view the results\n",
    "df[\"Property Type\"] = df[\"Property Type\"].astype(str).apply(clean_property_types)\n",
    "df[\"Property Type\"].value_counts(dropna=False)\n",
    "\n",
    "    "
   ],
   "cell_type": "code",
   "outputs": [
    {
     "output_type": "execute_result",
     "data": {
      "text/plain": "Condominium            23330\nServiced Residence     13453\nTerrace/Link House      7811\nBungalow                3749\nSemi-detached House     2162\nApartment               1677\nResidential Land         744\nTownhouse                550\nFlat                     373\nNaN                       25\nCluster House              9\nName: Property Type, dtype: int64"
     },
     "metadata": {},
     "execution_count": 41
    }
   ],
   "metadata": {},
   "execution_count": 41
  },
  {
   "cell_type": "markdown",
   "execution_count": null,
   "metadata": {},
   "outputs": [],
   "source": [
    "<h2>Size:</h2>\n",
    "<h4>Clean the Size Data</h4>\n",
    "- We ll split the Size column into Built_Type & Built_Size columns</br>\n",
    "- we ll then clean the Built_Size column to strip out unnecessary strings e.g. 'sq. ft.' or 'sf' etc</br>\n",
    "- then remove the original Size column since we have the data in two new columns"
   ]
  },
  {
   "source": [
    "\n",
    "df.head() # check for inconsistencies\n",
    ""
   ],
   "cell_type": "code",
   "outputs": [
    {
     "output_type": "execute_result",
     "data": {
      "text/plain": "            Location         Price  Rooms  Bathrooms  Car Parks  \\\n0               klcc  RM 1,250,000    NaN        3.0        2.0   \n1  damansara heights  RM 6,800,000    6.0        7.0        NaN   \n2            dutamas  RM 1,030,000    3.0        4.0        2.0   \n3             cheras           NaN    0.0        NaN        NaN   \n4        bukit jalil    RM 900,000    NaN        3.0        2.0   \n\n        Property Type                      Size        Furnishing  \n0  Serviced Residence  Built-up : 1,335 sq. ft.   Fully Furnished  \n1            Bungalow  Land area : 6900 sq. ft.  Partly Furnished  \n2         Condominium  Built-up : 1,875 sq. ft.  Partly Furnished  \n3                None                       NaN               NaN  \n4         Condominium  Built-up : 1,513 sq. ft.  Partly Furnished  ",
      "text/html": "<div>\n<style scoped>\n    .dataframe tbody tr th:only-of-type {\n        vertical-align: middle;\n    }\n\n    .dataframe tbody tr th {\n        vertical-align: top;\n    }\n\n    .dataframe thead th {\n        text-align: right;\n    }\n</style>\n<table border=\"1\" class=\"dataframe\">\n  <thead>\n    <tr style=\"text-align: right;\">\n      <th></th>\n      <th>Location</th>\n      <th>Price</th>\n      <th>Rooms</th>\n      <th>Bathrooms</th>\n      <th>Car Parks</th>\n      <th>Property Type</th>\n      <th>Size</th>\n      <th>Furnishing</th>\n    </tr>\n  </thead>\n  <tbody>\n    <tr>\n      <td>0</td>\n      <td>klcc</td>\n      <td>RM 1,250,000</td>\n      <td>NaN</td>\n      <td>3.0</td>\n      <td>2.0</td>\n      <td>Serviced Residence</td>\n      <td>Built-up : 1,335 sq. ft.</td>\n      <td>Fully Furnished</td>\n    </tr>\n    <tr>\n      <td>1</td>\n      <td>damansara heights</td>\n      <td>RM 6,800,000</td>\n      <td>6.0</td>\n      <td>7.0</td>\n      <td>NaN</td>\n      <td>Bungalow</td>\n      <td>Land area : 6900 sq. ft.</td>\n      <td>Partly Furnished</td>\n    </tr>\n    <tr>\n      <td>2</td>\n      <td>dutamas</td>\n      <td>RM 1,030,000</td>\n      <td>3.0</td>\n      <td>4.0</td>\n      <td>2.0</td>\n      <td>Condominium</td>\n      <td>Built-up : 1,875 sq. ft.</td>\n      <td>Partly Furnished</td>\n    </tr>\n    <tr>\n      <td>3</td>\n      <td>cheras</td>\n      <td>NaN</td>\n      <td>0.0</td>\n      <td>NaN</td>\n      <td>NaN</td>\n      <td>None</td>\n      <td>NaN</td>\n      <td>NaN</td>\n    </tr>\n    <tr>\n      <td>4</td>\n      <td>bukit jalil</td>\n      <td>RM 900,000</td>\n      <td>NaN</td>\n      <td>3.0</td>\n      <td>2.0</td>\n      <td>Condominium</td>\n      <td>Built-up : 1,513 sq. ft.</td>\n      <td>Partly Furnished</td>\n    </tr>\n  </tbody>\n</table>\n</div>"
     },
     "metadata": {},
     "execution_count": 42
    }
   ],
   "metadata": {},
   "execution_count": 42
  },
  {
   "source": [
    "# define the function to split Size into an array of two differnt values\n",
    "def split_property_size(size, tp=0):\n",
    "    try:\n",
    "        return size.split(\":\")[tp].strip()\n",
    "    except AttributeError:\n",
    "        return size\n",
    "\n",
    "\n",
    "# define the function to Convert Built_Size into numeric value\n",
    "def convert_built_size_numeric(bsize):\n",
    "    try:\n",
    "        if re.search(r\"sq\\.*\\s*ft\\.*\", bsize) is None:\n",
    "            return None\n",
    "        bsize = bsize.replace(\",\", \"\")         #remove the commas in price\n",
    "        bsize = bsize.replace(\"'\", \"\")         # remove the ''' symbol in few records\n",
    "        bsize = bsize.replace(\"sq. ft.\", \"\")   # remove the sq. ft. from the records\n",
    "        bsize = bsize.replace(\"sf\", \"\")        # some records are in 'sf' format, clean them\n",
    "        bsize = bsize.strip()\n",
    "        bsize = bsize.lower()\n",
    "        return int(bsize)\n",
    "    except:\n",
    "        return None\n",
    "\n",
    "#create a new column with the buildup type\n",
    "df[\"Built_Type\"] = df['Size'].astype(str).apply(split_property_size, tp=0)\n",
    "\n",
    "#create a new column with built size\n",
    "df[\"Built_Size\"] = df['Size'].apply(split_property_size, tp=1)\n",
    "\n",
    "# convert built size into numeric value\n",
    "df['Built_Size'] = df['Built_Size'].apply(convert_built_size_numeric)\n",
    "\n",
    "# delete the 'Size' column\n",
    "del df['Size']\n",
    "\n",
    "df.head()\n",
    ""
   ],
   "cell_type": "code",
   "outputs": [
    {
     "output_type": "execute_result",
     "data": {
      "text/plain": "            Location         Price  Rooms  Bathrooms  Car Parks  \\\n0               klcc  RM 1,250,000    NaN        3.0        2.0   \n1  damansara heights  RM 6,800,000    6.0        7.0        NaN   \n2            dutamas  RM 1,030,000    3.0        4.0        2.0   \n3             cheras           NaN    0.0        NaN        NaN   \n4        bukit jalil    RM 900,000    NaN        3.0        2.0   \n\n        Property Type        Furnishing Built_Type  Built_Size  \n0  Serviced Residence   Fully Furnished   Built-up      1335.0  \n1            Bungalow  Partly Furnished  Land area      6900.0  \n2         Condominium  Partly Furnished   Built-up      1875.0  \n3                None               NaN        nan         NaN  \n4         Condominium  Partly Furnished   Built-up      1513.0  ",
      "text/html": "<div>\n<style scoped>\n    .dataframe tbody tr th:only-of-type {\n        vertical-align: middle;\n    }\n\n    .dataframe tbody tr th {\n        vertical-align: top;\n    }\n\n    .dataframe thead th {\n        text-align: right;\n    }\n</style>\n<table border=\"1\" class=\"dataframe\">\n  <thead>\n    <tr style=\"text-align: right;\">\n      <th></th>\n      <th>Location</th>\n      <th>Price</th>\n      <th>Rooms</th>\n      <th>Bathrooms</th>\n      <th>Car Parks</th>\n      <th>Property Type</th>\n      <th>Furnishing</th>\n      <th>Built_Type</th>\n      <th>Built_Size</th>\n    </tr>\n  </thead>\n  <tbody>\n    <tr>\n      <td>0</td>\n      <td>klcc</td>\n      <td>RM 1,250,000</td>\n      <td>NaN</td>\n      <td>3.0</td>\n      <td>2.0</td>\n      <td>Serviced Residence</td>\n      <td>Fully Furnished</td>\n      <td>Built-up</td>\n      <td>1335.0</td>\n    </tr>\n    <tr>\n      <td>1</td>\n      <td>damansara heights</td>\n      <td>RM 6,800,000</td>\n      <td>6.0</td>\n      <td>7.0</td>\n      <td>NaN</td>\n      <td>Bungalow</td>\n      <td>Partly Furnished</td>\n      <td>Land area</td>\n      <td>6900.0</td>\n    </tr>\n    <tr>\n      <td>2</td>\n      <td>dutamas</td>\n      <td>RM 1,030,000</td>\n      <td>3.0</td>\n      <td>4.0</td>\n      <td>2.0</td>\n      <td>Condominium</td>\n      <td>Partly Furnished</td>\n      <td>Built-up</td>\n      <td>1875.0</td>\n    </tr>\n    <tr>\n      <td>3</td>\n      <td>cheras</td>\n      <td>NaN</td>\n      <td>0.0</td>\n      <td>NaN</td>\n      <td>NaN</td>\n      <td>None</td>\n      <td>NaN</td>\n      <td>nan</td>\n      <td>NaN</td>\n    </tr>\n    <tr>\n      <td>4</td>\n      <td>bukit jalil</td>\n      <td>RM 900,000</td>\n      <td>NaN</td>\n      <td>3.0</td>\n      <td>2.0</td>\n      <td>Condominium</td>\n      <td>Partly Furnished</td>\n      <td>Built-up</td>\n      <td>1513.0</td>\n    </tr>\n  </tbody>\n</table>\n</div>"
     },
     "metadata": {},
     "execution_count": 43
    }
   ],
   "metadata": {},
   "execution_count": 43
  },
  {
   "source": [
    "#Clean the Price column by stripping the label & commas\n",
    "def price_cleanup(price):\n",
    "    if pd.notna(price):\n",
    "        price = price.replace(\"RM\", \"\")\n",
    "        price = price.replace(\",\", \"\")\n",
    "        price = price.strip()\n",
    "        return int(price)\n",
    "    else:\n",
    "        return None\n",
    "\n",
    "# Apply the price_clean formula to clean up the pricing\n",
    "df['Price'] = df['Price'].apply(price_cleanup)\n",
    ""
   ],
   "cell_type": "code",
   "outputs": [],
   "metadata": {},
   "execution_count": 44
  },
  {
   "source": [
    "df.head()"
   ],
   "cell_type": "code",
   "outputs": [
    {
     "output_type": "execute_result",
     "data": {
      "text/plain": "            Location      Price  Rooms  Bathrooms  Car Parks  \\\n0               klcc  1250000.0    NaN        3.0        2.0   \n1  damansara heights  6800000.0    6.0        7.0        NaN   \n2            dutamas  1030000.0    3.0        4.0        2.0   \n3             cheras        NaN    0.0        NaN        NaN   \n4        bukit jalil   900000.0    NaN        3.0        2.0   \n\n        Property Type        Furnishing Built_Type  Built_Size  \n0  Serviced Residence   Fully Furnished   Built-up      1335.0  \n1            Bungalow  Partly Furnished  Land area      6900.0  \n2         Condominium  Partly Furnished   Built-up      1875.0  \n3                None               NaN        nan         NaN  \n4         Condominium  Partly Furnished   Built-up      1513.0  ",
      "text/html": "<div>\n<style scoped>\n    .dataframe tbody tr th:only-of-type {\n        vertical-align: middle;\n    }\n\n    .dataframe tbody tr th {\n        vertical-align: top;\n    }\n\n    .dataframe thead th {\n        text-align: right;\n    }\n</style>\n<table border=\"1\" class=\"dataframe\">\n  <thead>\n    <tr style=\"text-align: right;\">\n      <th></th>\n      <th>Location</th>\n      <th>Price</th>\n      <th>Rooms</th>\n      <th>Bathrooms</th>\n      <th>Car Parks</th>\n      <th>Property Type</th>\n      <th>Furnishing</th>\n      <th>Built_Type</th>\n      <th>Built_Size</th>\n    </tr>\n  </thead>\n  <tbody>\n    <tr>\n      <td>0</td>\n      <td>klcc</td>\n      <td>1250000.0</td>\n      <td>NaN</td>\n      <td>3.0</td>\n      <td>2.0</td>\n      <td>Serviced Residence</td>\n      <td>Fully Furnished</td>\n      <td>Built-up</td>\n      <td>1335.0</td>\n    </tr>\n    <tr>\n      <td>1</td>\n      <td>damansara heights</td>\n      <td>6800000.0</td>\n      <td>6.0</td>\n      <td>7.0</td>\n      <td>NaN</td>\n      <td>Bungalow</td>\n      <td>Partly Furnished</td>\n      <td>Land area</td>\n      <td>6900.0</td>\n    </tr>\n    <tr>\n      <td>2</td>\n      <td>dutamas</td>\n      <td>1030000.0</td>\n      <td>3.0</td>\n      <td>4.0</td>\n      <td>2.0</td>\n      <td>Condominium</td>\n      <td>Partly Furnished</td>\n      <td>Built-up</td>\n      <td>1875.0</td>\n    </tr>\n    <tr>\n      <td>3</td>\n      <td>cheras</td>\n      <td>NaN</td>\n      <td>0.0</td>\n      <td>NaN</td>\n      <td>NaN</td>\n      <td>None</td>\n      <td>NaN</td>\n      <td>nan</td>\n      <td>NaN</td>\n    </tr>\n    <tr>\n      <td>4</td>\n      <td>bukit jalil</td>\n      <td>900000.0</td>\n      <td>NaN</td>\n      <td>3.0</td>\n      <td>2.0</td>\n      <td>Condominium</td>\n      <td>Partly Furnished</td>\n      <td>Built-up</td>\n      <td>1513.0</td>\n    </tr>\n  </tbody>\n</table>\n</div>"
     },
     "metadata": {},
     "execution_count": 45
    }
   ],
   "metadata": {},
   "execution_count": 45
  },
  {
   "source": [
    "# Lets see the Rows where all 4 columns are null\n",
    "df.loc[(df['Rooms'].isnull()) & (df['Built_Size'].isnull()) & (df['Car Parks'].isnull()) & (df['Bathrooms'].isnull())].count() # see which are null"
   ],
   "cell_type": "code",
   "outputs": [
    {
     "output_type": "execute_result",
     "data": {
      "text/plain": "Location         10\nPrice            10\nRooms             0\nBathrooms         0\nCar Parks         0\nProperty Type    10\nFurnishing       10\nBuilt_Type       10\nBuilt_Size        0\ndtype: int64"
     },
     "metadata": {},
     "execution_count": 61
    }
   ],
   "metadata": {},
   "execution_count": 61
  },
  {
   "source": [
    "# Lets drop the Rows where all 4 columns are null\n",
    "df.dropna(subset=['Rooms', 'Built_Size', 'Car Parks', 'Bathrooms'], inplace=True)\n",
    "df.loc[(df['Rooms'].isnull()) & (df['Built_Size'].isnull()) & (df['Car Parks'].isnull()) & (df['Bathrooms'].isnull())] # see which are null"
   ],
   "cell_type": "code",
   "outputs": [
    {
     "output_type": "execute_result",
     "data": {
      "text/plain": "Empty DataFrame\nColumns: [Location, Price, Rooms, Bathrooms, Car Parks, Property Type, Furnishing, Built_Type, Built_Size]\nIndex: []",
      "text/html": "<div>\n<style scoped>\n    .dataframe tbody tr th:only-of-type {\n        vertical-align: middle;\n    }\n\n    .dataframe tbody tr th {\n        vertical-align: top;\n    }\n\n    .dataframe thead th {\n        text-align: right;\n    }\n</style>\n<table border=\"1\" class=\"dataframe\">\n  <thead>\n    <tr style=\"text-align: right;\">\n      <th></th>\n      <th>Location</th>\n      <th>Price</th>\n      <th>Rooms</th>\n      <th>Bathrooms</th>\n      <th>Car Parks</th>\n      <th>Property Type</th>\n      <th>Furnishing</th>\n      <th>Built_Type</th>\n      <th>Built_Size</th>\n    </tr>\n  </thead>\n  <tbody>\n  </tbody>\n</table>\n</div>"
     },
     "metadata": {},
     "execution_count": 62
    }
   ],
   "metadata": {},
   "execution_count": 62
  },
  {
   "source": [
    "corr = df.corr()\n",
    "ax = sns.heatmap(corr, cmap=sns.diverging_palette(20, 220, n=200), square=True)\n",
    "ax.set_xticklabels(ax.get_xticklabels(), rotation=45, horizontalalignment=\"right\")\n",
    "# print(corr)"
   ],
   "cell_type": "code",
   "outputs": [
    {
     "output_type": "execute_result",
     "data": {
      "text/plain": "[Text(0.5, 0, 'Price'),\n Text(1.5, 0, 'Rooms'),\n Text(2.5, 0, 'Bathrooms'),\n Text(3.5, 0, 'Car Parks'),\n Text(4.5, 0, 'Built_Size')]"
     },
     "metadata": {},
     "execution_count": 48
    },
    {
     "output_type": "display_data",
     "data": {
      "text/plain": "<Figure size 432x288 with 2 Axes>",
      "image/svg+xml": "<?xml version=\"1.0\" encoding=\"utf-8\" standalone=\"no\"?>\n<!DOCTYPE svg PUBLIC \"-//W3C//DTD SVG 1.1//EN\"\n  \"http://www.w3.org/Graphics/SVG/1.1/DTD/svg11.dtd\">\n<!-- Created with matplotlib (https://matplotlib.org/) -->\n<svg height=\"286.465837pt\" version=\"1.1\" viewBox=\"0 0 394.297313 286.465837\" width=\"394.297313pt\" xmlns=\"http://www.w3.org/2000/svg\" xmlns:xlink=\"http://www.w3.org/1999/xlink\">\n <defs>\n  <style type=\"text/css\">\n*{stroke-linecap:butt;stroke-linejoin:round;}\n  </style>\n </defs>\n <g id=\"figure_1\">\n  <g id=\"patch_1\">\n   <path d=\"M 0 286.465837 \nL 394.297313 286.465837 \nL 394.297313 0 \nL 0 0 \nz\n\" style=\"fill:none;\"/>\n  </g>\n  <g id=\"axes_1\">\n   <g id=\"patch_2\">\n    <path d=\"M 68.742188 226.855219 \nL 336.582188 226.855219 \nL 336.582188 12.583219 \nL 68.742188 12.583219 \nz\n\" style=\"fill:#ffffff;\"/>\n   </g>\n   <g id=\"QuadMesh_1\">\n    <path clip-path=\"url(#p9d1f2c333c)\" d=\"M 68.742188 -14.200781 \nL 122.310188 -14.200781 \nL 122.310188 39.367219 \nL 68.742188 39.367219 \nL 68.742188 -14.200781 \n\" style=\"fill:#3f7f93;\"/>\n    <path clip-path=\"url(#p9d1f2c333c)\" d=\"M 122.310188 -14.200781 \nL 175.878188 -14.200781 \nL 175.878188 39.367219 \nL 122.310188 39.367219 \nL 122.310188 -14.200781 \n\" style=\"fill:#c3553a;\"/>\n    <path clip-path=\"url(#p9d1f2c333c)\" d=\"M 175.878188 -14.200781 \nL 229.446188 -14.200781 \nL 229.446188 39.367219 \nL 175.878188 39.367219 \nL 175.878188 -14.200781 \n\" style=\"fill:#d3846f;\"/>\n    <path clip-path=\"url(#p9d1f2c333c)\" d=\"M 229.446188 -14.200781 \nL 283.014188 -14.200781 \nL 283.014188 39.367219 \nL 229.446188 39.367219 \nL 229.446188 -14.200781 \n\" style=\"fill:#d17f6a;\"/>\n    <path clip-path=\"url(#p9d1f2c333c)\" d=\"M 283.014188 -14.200781 \nL 336.582188 -14.200781 \nL 336.582188 39.367219 \nL 283.014188 39.367219 \nL 283.014188 -14.200781 \n\" style=\"fill:#c9684f;\"/>\n    <path clip-path=\"url(#p9d1f2c333c)\" d=\"M 68.742188 39.367219 \nL 122.310188 39.367219 \nL 122.310188 92.935219 \nL 68.742188 92.935219 \nL 68.742188 39.367219 \n\" style=\"fill:#c3553a;\"/>\n    <path clip-path=\"url(#p9d1f2c333c)\" d=\"M 122.310188 39.367219 \nL 175.878188 39.367219 \nL 175.878188 92.935219 \nL 122.310188 92.935219 \nL 122.310188 39.367219 \n\" style=\"fill:#3f7f93;\"/>\n    <path clip-path=\"url(#p9d1f2c333c)\" d=\"M 175.878188 39.367219 \nL 229.446188 39.367219 \nL 229.446188 92.935219 \nL 175.878188 92.935219 \nL 175.878188 39.367219 \n\" style=\"fill:#83adba;\"/>\n    <path clip-path=\"url(#p9d1f2c333c)\" d=\"M 229.446188 39.367219 \nL 283.014188 39.367219 \nL 283.014188 92.935219 \nL 229.446188 92.935219 \nL 229.446188 39.367219 \n\" style=\"fill:#dbe8ed;\"/>\n    <path clip-path=\"url(#p9d1f2c333c)\" d=\"M 283.014188 39.367219 \nL 336.582188 39.367219 \nL 336.582188 92.935219 \nL 283.014188 92.935219 \nL 283.014188 39.367219 \n\" style=\"fill:#c76046;\"/>\n    <path clip-path=\"url(#p9d1f2c333c)\" d=\"M 68.742188 92.935219 \nL 122.310188 92.935219 \nL 122.310188 146.503219 \nL 68.742188 146.503219 \nL 68.742188 92.935219 \n\" style=\"fill:#d3846f;\"/>\n    <path clip-path=\"url(#p9d1f2c333c)\" d=\"M 122.310188 92.935219 \nL 175.878188 92.935219 \nL 175.878188 146.503219 \nL 122.310188 146.503219 \nL 122.310188 92.935219 \n\" style=\"fill:#83adba;\"/>\n    <path clip-path=\"url(#p9d1f2c333c)\" d=\"M 175.878188 92.935219 \nL 229.446188 92.935219 \nL 229.446188 146.503219 \nL 175.878188 146.503219 \nL 175.878188 92.935219 \n\" style=\"fill:#3f7f93;\"/>\n    <path clip-path=\"url(#p9d1f2c333c)\" d=\"M 229.446188 92.935219 \nL 283.014188 92.935219 \nL 283.014188 146.503219 \nL 229.446188 146.503219 \nL 229.446188 92.935219 \n\" style=\"fill:#bad2da;\"/>\n    <path clip-path=\"url(#p9d1f2c333c)\" d=\"M 283.014188 92.935219 \nL 336.582188 92.935219 \nL 336.582188 146.503219 \nL 283.014188 146.503219 \nL 283.014188 92.935219 \n\" style=\"fill:#ca6951;\"/>\n    <path clip-path=\"url(#p9d1f2c333c)\" d=\"M 68.742188 146.503219 \nL 122.310188 146.503219 \nL 122.310188 200.071219 \nL 68.742188 200.071219 \nL 68.742188 146.503219 \n\" style=\"fill:#d17f6a;\"/>\n    <path clip-path=\"url(#p9d1f2c333c)\" d=\"M 122.310188 146.503219 \nL 175.878188 146.503219 \nL 175.878188 200.071219 \nL 122.310188 200.071219 \nL 122.310188 146.503219 \n\" style=\"fill:#dbe8ed;\"/>\n    <path clip-path=\"url(#p9d1f2c333c)\" d=\"M 175.878188 146.503219 \nL 229.446188 146.503219 \nL 229.446188 200.071219 \nL 175.878188 200.071219 \nL 175.878188 146.503219 \n\" style=\"fill:#bad2da;\"/>\n    <path clip-path=\"url(#p9d1f2c333c)\" d=\"M 229.446188 146.503219 \nL 283.014188 146.503219 \nL 283.014188 200.071219 \nL 229.446188 200.071219 \nL 229.446188 146.503219 \n\" style=\"fill:#3f7f93;\"/>\n    <path clip-path=\"url(#p9d1f2c333c)\" d=\"M 283.014188 146.503219 \nL 336.582188 146.503219 \nL 336.582188 200.071219 \nL 283.014188 200.071219 \nL 283.014188 146.503219 \n\" style=\"fill:#d8917f;\"/>\n    <path clip-path=\"url(#p9d1f2c333c)\" d=\"M 68.742188 200.071219 \nL 122.310188 200.071219 \nL 122.310188 253.639219 \nL 68.742188 253.639219 \nL 68.742188 200.071219 \n\" style=\"fill:#c9684f;\"/>\n    <path clip-path=\"url(#p9d1f2c333c)\" d=\"M 122.310188 200.071219 \nL 175.878188 200.071219 \nL 175.878188 253.639219 \nL 122.310188 253.639219 \nL 122.310188 200.071219 \n\" style=\"fill:#c76046;\"/>\n    <path clip-path=\"url(#p9d1f2c333c)\" d=\"M 175.878188 200.071219 \nL 229.446188 200.071219 \nL 229.446188 253.639219 \nL 175.878188 253.639219 \nL 175.878188 200.071219 \n\" style=\"fill:#ca6951;\"/>\n    <path clip-path=\"url(#p9d1f2c333c)\" d=\"M 229.446188 200.071219 \nL 283.014188 200.071219 \nL 283.014188 253.639219 \nL 229.446188 253.639219 \nL 229.446188 200.071219 \n\" style=\"fill:#d8917f;\"/>\n    <path clip-path=\"url(#p9d1f2c333c)\" d=\"M 283.014188 200.071219 \nL 336.582188 200.071219 \nL 336.582188 253.639219 \nL 283.014188 253.639219 \nL 283.014188 200.071219 \n\" style=\"fill:#3f7f93;\"/>\n   </g>\n   <g id=\"matplotlib.axis_1\">\n    <g id=\"xtick_1\">\n     <g id=\"line2d_1\">\n      <defs>\n       <path d=\"M 0 0 \nL 0 3.5 \n\" id=\"m6a9a006fdc\" style=\"stroke:#000000;stroke-width:0.8;\"/>\n      </defs>\n      <g>\n       <use style=\"stroke:#000000;stroke-width:0.8;\" x=\"95.526188\" xlink:href=\"#m6a9a006fdc\" y=\"226.855219\"/>\n      </g>\n     </g>\n     <g id=\"text_1\">\n      <!-- Price -->\n      <defs>\n       <path d=\"M 19.671875 64.796875 \nL 19.671875 37.40625 \nL 32.078125 37.40625 \nQ 38.96875 37.40625 42.71875 40.96875 \nQ 46.484375 44.53125 46.484375 51.125 \nQ 46.484375 57.671875 42.71875 61.234375 \nQ 38.96875 64.796875 32.078125 64.796875 \nz\nM 9.8125 72.90625 \nL 32.078125 72.90625 \nQ 44.34375 72.90625 50.609375 67.359375 \nQ 56.890625 61.8125 56.890625 51.125 \nQ 56.890625 40.328125 50.609375 34.8125 \nQ 44.34375 29.296875 32.078125 29.296875 \nL 19.671875 29.296875 \nL 19.671875 0 \nL 9.8125 0 \nz\n\" id=\"DejaVuSans-80\"/>\n       <path d=\"M 41.109375 46.296875 \nQ 39.59375 47.171875 37.8125 47.578125 \nQ 36.03125 48 33.890625 48 \nQ 26.265625 48 22.1875 43.046875 \nQ 18.109375 38.09375 18.109375 28.8125 \nL 18.109375 0 \nL 9.078125 0 \nL 9.078125 54.6875 \nL 18.109375 54.6875 \nL 18.109375 46.1875 \nQ 20.953125 51.171875 25.484375 53.578125 \nQ 30.03125 56 36.53125 56 \nQ 37.453125 56 38.578125 55.875 \nQ 39.703125 55.765625 41.0625 55.515625 \nz\n\" id=\"DejaVuSans-114\"/>\n       <path d=\"M 9.421875 54.6875 \nL 18.40625 54.6875 \nL 18.40625 0 \nL 9.421875 0 \nz\nM 9.421875 75.984375 \nL 18.40625 75.984375 \nL 18.40625 64.59375 \nL 9.421875 64.59375 \nz\n\" id=\"DejaVuSans-105\"/>\n       <path d=\"M 48.78125 52.59375 \nL 48.78125 44.1875 \nQ 44.96875 46.296875 41.140625 47.34375 \nQ 37.3125 48.390625 33.40625 48.390625 \nQ 24.65625 48.390625 19.8125 42.84375 \nQ 14.984375 37.3125 14.984375 27.296875 \nQ 14.984375 17.28125 19.8125 11.734375 \nQ 24.65625 6.203125 33.40625 6.203125 \nQ 37.3125 6.203125 41.140625 7.25 \nQ 44.96875 8.296875 48.78125 10.40625 \nL 48.78125 2.09375 \nQ 45.015625 0.34375 40.984375 -0.53125 \nQ 36.96875 -1.421875 32.421875 -1.421875 \nQ 20.0625 -1.421875 12.78125 6.34375 \nQ 5.515625 14.109375 5.515625 27.296875 \nQ 5.515625 40.671875 12.859375 48.328125 \nQ 20.21875 56 33.015625 56 \nQ 37.15625 56 41.109375 55.140625 \nQ 45.0625 54.296875 48.78125 52.59375 \nz\n\" id=\"DejaVuSans-99\"/>\n       <path d=\"M 56.203125 29.59375 \nL 56.203125 25.203125 \nL 14.890625 25.203125 \nQ 15.484375 15.921875 20.484375 11.0625 \nQ 25.484375 6.203125 34.421875 6.203125 \nQ 39.59375 6.203125 44.453125 7.46875 \nQ 49.3125 8.734375 54.109375 11.28125 \nL 54.109375 2.78125 \nQ 49.265625 0.734375 44.1875 -0.34375 \nQ 39.109375 -1.421875 33.890625 -1.421875 \nQ 20.796875 -1.421875 13.15625 6.1875 \nQ 5.515625 13.8125 5.515625 26.8125 \nQ 5.515625 40.234375 12.765625 48.109375 \nQ 20.015625 56 32.328125 56 \nQ 43.359375 56 49.78125 48.890625 \nQ 56.203125 41.796875 56.203125 29.59375 \nz\nM 47.21875 32.234375 \nQ 47.125 39.59375 43.09375 43.984375 \nQ 39.0625 48.390625 32.421875 48.390625 \nQ 24.90625 48.390625 20.390625 44.140625 \nQ 15.875 39.890625 15.1875 32.171875 \nz\n\" id=\"DejaVuSans-101\"/>\n      </defs>\n      <g transform=\"translate(76.682897 256.600855)rotate(-45)scale(0.1 -0.1)\">\n       <use xlink:href=\"#DejaVuSans-80\"/>\n       <use x=\"60.287109\" xlink:href=\"#DejaVuSans-114\"/>\n       <use x=\"101.400391\" xlink:href=\"#DejaVuSans-105\"/>\n       <use x=\"129.183594\" xlink:href=\"#DejaVuSans-99\"/>\n       <use x=\"184.164062\" xlink:href=\"#DejaVuSans-101\"/>\n      </g>\n     </g>\n    </g>\n    <g id=\"xtick_2\">\n     <g id=\"line2d_2\">\n      <g>\n       <use style=\"stroke:#000000;stroke-width:0.8;\" x=\"149.094188\" xlink:href=\"#m6a9a006fdc\" y=\"226.855219\"/>\n      </g>\n     </g>\n     <g id=\"text_2\">\n      <!-- Rooms -->\n      <defs>\n       <path d=\"M 44.390625 34.1875 \nQ 47.5625 33.109375 50.5625 29.59375 \nQ 53.5625 26.078125 56.59375 19.921875 \nL 66.609375 0 \nL 56 0 \nL 46.6875 18.703125 \nQ 43.0625 26.03125 39.671875 28.421875 \nQ 36.28125 30.8125 30.421875 30.8125 \nL 19.671875 30.8125 \nL 19.671875 0 \nL 9.8125 0 \nL 9.8125 72.90625 \nL 32.078125 72.90625 \nQ 44.578125 72.90625 50.734375 67.671875 \nQ 56.890625 62.453125 56.890625 51.90625 \nQ 56.890625 45.015625 53.6875 40.46875 \nQ 50.484375 35.9375 44.390625 34.1875 \nz\nM 19.671875 64.796875 \nL 19.671875 38.921875 \nL 32.078125 38.921875 \nQ 39.203125 38.921875 42.84375 42.21875 \nQ 46.484375 45.515625 46.484375 51.90625 \nQ 46.484375 58.296875 42.84375 61.546875 \nQ 39.203125 64.796875 32.078125 64.796875 \nz\n\" id=\"DejaVuSans-82\"/>\n       <path d=\"M 30.609375 48.390625 \nQ 23.390625 48.390625 19.1875 42.75 \nQ 14.984375 37.109375 14.984375 27.296875 \nQ 14.984375 17.484375 19.15625 11.84375 \nQ 23.34375 6.203125 30.609375 6.203125 \nQ 37.796875 6.203125 41.984375 11.859375 \nQ 46.1875 17.53125 46.1875 27.296875 \nQ 46.1875 37.015625 41.984375 42.703125 \nQ 37.796875 48.390625 30.609375 48.390625 \nz\nM 30.609375 56 \nQ 42.328125 56 49.015625 48.375 \nQ 55.71875 40.765625 55.71875 27.296875 \nQ 55.71875 13.875 49.015625 6.21875 \nQ 42.328125 -1.421875 30.609375 -1.421875 \nQ 18.84375 -1.421875 12.171875 6.21875 \nQ 5.515625 13.875 5.515625 27.296875 \nQ 5.515625 40.765625 12.171875 48.375 \nQ 18.84375 56 30.609375 56 \nz\n\" id=\"DejaVuSans-111\"/>\n       <path d=\"M 52 44.1875 \nQ 55.375 50.25 60.0625 53.125 \nQ 64.75 56 71.09375 56 \nQ 79.640625 56 84.28125 50.015625 \nQ 88.921875 44.046875 88.921875 33.015625 \nL 88.921875 0 \nL 79.890625 0 \nL 79.890625 32.71875 \nQ 79.890625 40.578125 77.09375 44.375 \nQ 74.3125 48.1875 68.609375 48.1875 \nQ 61.625 48.1875 57.5625 43.546875 \nQ 53.515625 38.921875 53.515625 30.90625 \nL 53.515625 0 \nL 44.484375 0 \nL 44.484375 32.71875 \nQ 44.484375 40.625 41.703125 44.40625 \nQ 38.921875 48.1875 33.109375 48.1875 \nQ 26.21875 48.1875 22.15625 43.53125 \nQ 18.109375 38.875 18.109375 30.90625 \nL 18.109375 0 \nL 9.078125 0 \nL 9.078125 54.6875 \nL 18.109375 54.6875 \nL 18.109375 46.1875 \nQ 21.1875 51.21875 25.484375 53.609375 \nQ 29.78125 56 35.6875 56 \nQ 41.65625 56 45.828125 52.96875 \nQ 50 49.953125 52 44.1875 \nz\n\" id=\"DejaVuSans-109\"/>\n       <path d=\"M 44.28125 53.078125 \nL 44.28125 44.578125 \nQ 40.484375 46.53125 36.375 47.5 \nQ 32.28125 48.484375 27.875 48.484375 \nQ 21.1875 48.484375 17.84375 46.4375 \nQ 14.5 44.390625 14.5 40.28125 \nQ 14.5 37.15625 16.890625 35.375 \nQ 19.28125 33.59375 26.515625 31.984375 \nL 29.59375 31.296875 \nQ 39.15625 29.25 43.1875 25.515625 \nQ 47.21875 21.78125 47.21875 15.09375 \nQ 47.21875 7.46875 41.1875 3.015625 \nQ 35.15625 -1.421875 24.609375 -1.421875 \nQ 20.21875 -1.421875 15.453125 -0.5625 \nQ 10.6875 0.296875 5.421875 2 \nL 5.421875 11.28125 \nQ 10.40625 8.6875 15.234375 7.390625 \nQ 20.0625 6.109375 24.8125 6.109375 \nQ 31.15625 6.109375 34.5625 8.28125 \nQ 37.984375 10.453125 37.984375 14.40625 \nQ 37.984375 18.0625 35.515625 20.015625 \nQ 33.0625 21.96875 24.703125 23.78125 \nL 21.578125 24.515625 \nQ 13.234375 26.265625 9.515625 29.90625 \nQ 5.8125 33.546875 5.8125 39.890625 \nQ 5.8125 47.609375 11.28125 51.796875 \nQ 16.75 56 26.8125 56 \nQ 31.78125 56 36.171875 55.265625 \nQ 40.578125 54.546875 44.28125 53.078125 \nz\n\" id=\"DejaVuSans-115\"/>\n      </defs>\n      <g transform=\"translate(123.490293 263.361459)rotate(-45)scale(0.1 -0.1)\">\n       <use xlink:href=\"#DejaVuSans-82\"/>\n       <use x=\"69.419922\" xlink:href=\"#DejaVuSans-111\"/>\n       <use x=\"130.601562\" xlink:href=\"#DejaVuSans-111\"/>\n       <use x=\"191.783203\" xlink:href=\"#DejaVuSans-109\"/>\n       <use x=\"289.195312\" xlink:href=\"#DejaVuSans-115\"/>\n      </g>\n     </g>\n    </g>\n    <g id=\"xtick_3\">\n     <g id=\"line2d_3\">\n      <g>\n       <use style=\"stroke:#000000;stroke-width:0.8;\" x=\"202.662188\" xlink:href=\"#m6a9a006fdc\" y=\"226.855219\"/>\n      </g>\n     </g>\n     <g id=\"text_3\">\n      <!-- Bathrooms -->\n      <defs>\n       <path d=\"M 19.671875 34.8125 \nL 19.671875 8.109375 \nL 35.5 8.109375 \nQ 43.453125 8.109375 47.28125 11.40625 \nQ 51.125 14.703125 51.125 21.484375 \nQ 51.125 28.328125 47.28125 31.5625 \nQ 43.453125 34.8125 35.5 34.8125 \nz\nM 19.671875 64.796875 \nL 19.671875 42.828125 \nL 34.28125 42.828125 \nQ 41.5 42.828125 45.03125 45.53125 \nQ 48.578125 48.25 48.578125 53.8125 \nQ 48.578125 59.328125 45.03125 62.0625 \nQ 41.5 64.796875 34.28125 64.796875 \nz\nM 9.8125 72.90625 \nL 35.015625 72.90625 \nQ 46.296875 72.90625 52.390625 68.21875 \nQ 58.5 63.53125 58.5 54.890625 \nQ 58.5 48.1875 55.375 44.234375 \nQ 52.25 40.28125 46.1875 39.3125 \nQ 53.46875 37.75 57.5 32.78125 \nQ 61.53125 27.828125 61.53125 20.40625 \nQ 61.53125 10.640625 54.890625 5.3125 \nQ 48.25 0 35.984375 0 \nL 9.8125 0 \nz\n\" id=\"DejaVuSans-66\"/>\n       <path d=\"M 34.28125 27.484375 \nQ 23.390625 27.484375 19.1875 25 \nQ 14.984375 22.515625 14.984375 16.5 \nQ 14.984375 11.71875 18.140625 8.90625 \nQ 21.296875 6.109375 26.703125 6.109375 \nQ 34.1875 6.109375 38.703125 11.40625 \nQ 43.21875 16.703125 43.21875 25.484375 \nL 43.21875 27.484375 \nz\nM 52.203125 31.203125 \nL 52.203125 0 \nL 43.21875 0 \nL 43.21875 8.296875 \nQ 40.140625 3.328125 35.546875 0.953125 \nQ 30.953125 -1.421875 24.3125 -1.421875 \nQ 15.921875 -1.421875 10.953125 3.296875 \nQ 6 8.015625 6 15.921875 \nQ 6 25.140625 12.171875 29.828125 \nQ 18.359375 34.515625 30.609375 34.515625 \nL 43.21875 34.515625 \nL 43.21875 35.40625 \nQ 43.21875 41.609375 39.140625 45 \nQ 35.0625 48.390625 27.6875 48.390625 \nQ 23 48.390625 18.546875 47.265625 \nQ 14.109375 46.140625 10.015625 43.890625 \nL 10.015625 52.203125 \nQ 14.9375 54.109375 19.578125 55.046875 \nQ 24.21875 56 28.609375 56 \nQ 40.484375 56 46.34375 49.84375 \nQ 52.203125 43.703125 52.203125 31.203125 \nz\n\" id=\"DejaVuSans-97\"/>\n       <path d=\"M 18.3125 70.21875 \nL 18.3125 54.6875 \nL 36.8125 54.6875 \nL 36.8125 47.703125 \nL 18.3125 47.703125 \nL 18.3125 18.015625 \nQ 18.3125 11.328125 20.140625 9.421875 \nQ 21.96875 7.515625 27.59375 7.515625 \nL 36.8125 7.515625 \nL 36.8125 0 \nL 27.59375 0 \nQ 17.1875 0 13.234375 3.875 \nQ 9.28125 7.765625 9.28125 18.015625 \nL 9.28125 47.703125 \nL 2.6875 47.703125 \nL 2.6875 54.6875 \nL 9.28125 54.6875 \nL 9.28125 70.21875 \nz\n\" id=\"DejaVuSans-116\"/>\n       <path d=\"M 54.890625 33.015625 \nL 54.890625 0 \nL 45.90625 0 \nL 45.90625 32.71875 \nQ 45.90625 40.484375 42.875 44.328125 \nQ 39.84375 48.1875 33.796875 48.1875 \nQ 26.515625 48.1875 22.3125 43.546875 \nQ 18.109375 38.921875 18.109375 30.90625 \nL 18.109375 0 \nL 9.078125 0 \nL 9.078125 75.984375 \nL 18.109375 75.984375 \nL 18.109375 46.1875 \nQ 21.34375 51.125 25.703125 53.5625 \nQ 30.078125 56 35.796875 56 \nQ 45.21875 56 50.046875 50.171875 \nQ 54.890625 44.34375 54.890625 33.015625 \nz\n\" id=\"DejaVuSans-104\"/>\n      </defs>\n      <g transform=\"translate(162.624476 277.795276)rotate(-45)scale(0.1 -0.1)\">\n       <use xlink:href=\"#DejaVuSans-66\"/>\n       <use x=\"68.603516\" xlink:href=\"#DejaVuSans-97\"/>\n       <use x=\"129.882812\" xlink:href=\"#DejaVuSans-116\"/>\n       <use x=\"169.091797\" xlink:href=\"#DejaVuSans-104\"/>\n       <use x=\"232.470703\" xlink:href=\"#DejaVuSans-114\"/>\n       <use x=\"273.552734\" xlink:href=\"#DejaVuSans-111\"/>\n       <use x=\"334.734375\" xlink:href=\"#DejaVuSans-111\"/>\n       <use x=\"395.916016\" xlink:href=\"#DejaVuSans-109\"/>\n       <use x=\"493.328125\" xlink:href=\"#DejaVuSans-115\"/>\n      </g>\n     </g>\n    </g>\n    <g id=\"xtick_4\">\n     <g id=\"line2d_4\">\n      <g>\n       <use style=\"stroke:#000000;stroke-width:0.8;\" x=\"256.230188\" xlink:href=\"#m6a9a006fdc\" y=\"226.855219\"/>\n      </g>\n     </g>\n     <g id=\"text_4\">\n      <!-- Car Parks -->\n      <defs>\n       <path d=\"M 64.40625 67.28125 \nL 64.40625 56.890625 \nQ 59.421875 61.53125 53.78125 63.8125 \nQ 48.140625 66.109375 41.796875 66.109375 \nQ 29.296875 66.109375 22.65625 58.46875 \nQ 16.015625 50.828125 16.015625 36.375 \nQ 16.015625 21.96875 22.65625 14.328125 \nQ 29.296875 6.6875 41.796875 6.6875 \nQ 48.140625 6.6875 53.78125 8.984375 \nQ 59.421875 11.28125 64.40625 15.921875 \nL 64.40625 5.609375 \nQ 59.234375 2.09375 53.4375 0.328125 \nQ 47.65625 -1.421875 41.21875 -1.421875 \nQ 24.65625 -1.421875 15.125 8.703125 \nQ 5.609375 18.84375 5.609375 36.375 \nQ 5.609375 53.953125 15.125 64.078125 \nQ 24.65625 74.21875 41.21875 74.21875 \nQ 47.75 74.21875 53.53125 72.484375 \nQ 59.328125 70.75 64.40625 67.28125 \nz\n\" id=\"DejaVuSans-67\"/>\n       <path id=\"DejaVuSans-32\"/>\n       <path d=\"M 9.078125 75.984375 \nL 18.109375 75.984375 \nL 18.109375 31.109375 \nL 44.921875 54.6875 \nL 56.390625 54.6875 \nL 27.390625 29.109375 \nL 57.625 0 \nL 45.90625 0 \nL 18.109375 26.703125 \nL 18.109375 0 \nL 9.078125 0 \nz\n\" id=\"DejaVuSans-107\"/>\n      </defs>\n      <g transform=\"translate(221.057149 272.930602)rotate(-45)scale(0.1 -0.1)\">\n       <use xlink:href=\"#DejaVuSans-67\"/>\n       <use x=\"69.824219\" xlink:href=\"#DejaVuSans-97\"/>\n       <use x=\"131.103516\" xlink:href=\"#DejaVuSans-114\"/>\n       <use x=\"172.216797\" xlink:href=\"#DejaVuSans-32\"/>\n       <use x=\"204.003906\" xlink:href=\"#DejaVuSans-80\"/>\n       <use x=\"264.244141\" xlink:href=\"#DejaVuSans-97\"/>\n       <use x=\"325.523438\" xlink:href=\"#DejaVuSans-114\"/>\n       <use x=\"366.636719\" xlink:href=\"#DejaVuSans-107\"/>\n       <use x=\"424.546875\" xlink:href=\"#DejaVuSans-115\"/>\n      </g>\n     </g>\n    </g>\n    <g id=\"xtick_5\">\n     <g id=\"line2d_5\">\n      <g>\n       <use style=\"stroke:#000000;stroke-width:0.8;\" x=\"309.798188\" xlink:href=\"#m6a9a006fdc\" y=\"226.855219\"/>\n      </g>\n     </g>\n     <g id=\"text_5\">\n      <!-- Built_Size -->\n      <defs>\n       <path d=\"M 8.5 21.578125 \nL 8.5 54.6875 \nL 17.484375 54.6875 \nL 17.484375 21.921875 \nQ 17.484375 14.15625 20.5 10.265625 \nQ 23.53125 6.390625 29.59375 6.390625 \nQ 36.859375 6.390625 41.078125 11.03125 \nQ 45.3125 15.671875 45.3125 23.6875 \nL 45.3125 54.6875 \nL 54.296875 54.6875 \nL 54.296875 0 \nL 45.3125 0 \nL 45.3125 8.40625 \nQ 42.046875 3.421875 37.71875 1 \nQ 33.40625 -1.421875 27.6875 -1.421875 \nQ 18.265625 -1.421875 13.375 4.4375 \nQ 8.5 10.296875 8.5 21.578125 \nz\nM 31.109375 56 \nz\n\" id=\"DejaVuSans-117\"/>\n       <path d=\"M 9.421875 75.984375 \nL 18.40625 75.984375 \nL 18.40625 0 \nL 9.421875 0 \nz\n\" id=\"DejaVuSans-108\"/>\n       <path d=\"M 50.984375 -16.609375 \nL 50.984375 -23.578125 \nL -0.984375 -23.578125 \nL -0.984375 -16.609375 \nz\n\" id=\"DejaVuSans-95\"/>\n       <path d=\"M 53.515625 70.515625 \nL 53.515625 60.890625 \nQ 47.90625 63.578125 42.921875 64.890625 \nQ 37.9375 66.21875 33.296875 66.21875 \nQ 25.25 66.21875 20.875 63.09375 \nQ 16.5 59.96875 16.5 54.203125 \nQ 16.5 49.359375 19.40625 46.890625 \nQ 22.3125 44.4375 30.421875 42.921875 \nL 36.375 41.703125 \nQ 47.40625 39.59375 52.65625 34.296875 \nQ 57.90625 29 57.90625 20.125 \nQ 57.90625 9.515625 50.796875 4.046875 \nQ 43.703125 -1.421875 29.984375 -1.421875 \nQ 24.8125 -1.421875 18.96875 -0.25 \nQ 13.140625 0.921875 6.890625 3.21875 \nL 6.890625 13.375 \nQ 12.890625 10.015625 18.65625 8.296875 \nQ 24.421875 6.59375 29.984375 6.59375 \nQ 38.421875 6.59375 43.015625 9.90625 \nQ 47.609375 13.234375 47.609375 19.390625 \nQ 47.609375 24.75 44.3125 27.78125 \nQ 41.015625 30.8125 33.5 32.328125 \nL 27.484375 33.5 \nQ 16.453125 35.6875 11.515625 40.375 \nQ 6.59375 45.0625 6.59375 53.421875 \nQ 6.59375 63.09375 13.40625 68.65625 \nQ 20.21875 74.21875 32.171875 74.21875 \nQ 37.3125 74.21875 42.625 73.28125 \nQ 47.953125 72.359375 53.515625 70.515625 \nz\n\" id=\"DejaVuSans-83\"/>\n       <path d=\"M 5.515625 54.6875 \nL 48.1875 54.6875 \nL 48.1875 46.484375 \nL 14.40625 7.171875 \nL 48.1875 7.171875 \nL 48.1875 0 \nL 4.296875 0 \nL 4.296875 8.203125 \nL 38.09375 47.515625 \nL 5.515625 47.515625 \nz\n\" id=\"DejaVuSans-122\"/>\n      </defs>\n      <g transform=\"translate(274.046206 273.312882)rotate(-45)scale(0.1 -0.1)\">\n       <use xlink:href=\"#DejaVuSans-66\"/>\n       <use x=\"68.603516\" xlink:href=\"#DejaVuSans-117\"/>\n       <use x=\"131.982422\" xlink:href=\"#DejaVuSans-105\"/>\n       <use x=\"159.765625\" xlink:href=\"#DejaVuSans-108\"/>\n       <use x=\"187.548828\" xlink:href=\"#DejaVuSans-116\"/>\n       <use x=\"226.757812\" xlink:href=\"#DejaVuSans-95\"/>\n       <use x=\"276.757812\" xlink:href=\"#DejaVuSans-83\"/>\n       <use x=\"340.234375\" xlink:href=\"#DejaVuSans-105\"/>\n       <use x=\"368.017578\" xlink:href=\"#DejaVuSans-122\"/>\n       <use x=\"420.507812\" xlink:href=\"#DejaVuSans-101\"/>\n      </g>\n     </g>\n    </g>\n   </g>\n   <g id=\"matplotlib.axis_2\">\n    <g id=\"ytick_1\">\n     <g id=\"line2d_6\">\n      <defs>\n       <path d=\"M 0 0 \nL -3.5 0 \n\" id=\"m9d2bd259cc\" style=\"stroke:#000000;stroke-width:0.8;\"/>\n      </defs>\n      <g>\n       <use style=\"stroke:#000000;stroke-width:0.8;\" x=\"68.742188\" xlink:href=\"#m9d2bd259cc\" y=\"12.583219\"/>\n      </g>\n     </g>\n     <g id=\"text_6\">\n      <!-- Price -->\n      <g transform=\"translate(37.173437 16.382438)scale(0.1 -0.1)\">\n       <use xlink:href=\"#DejaVuSans-80\"/>\n       <use x=\"60.287109\" xlink:href=\"#DejaVuSans-114\"/>\n       <use x=\"101.400391\" xlink:href=\"#DejaVuSans-105\"/>\n       <use x=\"129.183594\" xlink:href=\"#DejaVuSans-99\"/>\n       <use x=\"184.164062\" xlink:href=\"#DejaVuSans-101\"/>\n      </g>\n     </g>\n    </g>\n    <g id=\"ytick_2\">\n     <g id=\"line2d_7\">\n      <g>\n       <use style=\"stroke:#000000;stroke-width:0.8;\" x=\"68.742188\" xlink:href=\"#m9d2bd259cc\" y=\"66.151219\"/>\n      </g>\n     </g>\n     <g id=\"text_7\">\n      <!-- Rooms -->\n      <g transform=\"translate(27.6125 69.950438)scale(0.1 -0.1)\">\n       <use xlink:href=\"#DejaVuSans-82\"/>\n       <use x=\"69.419922\" xlink:href=\"#DejaVuSans-111\"/>\n       <use x=\"130.601562\" xlink:href=\"#DejaVuSans-111\"/>\n       <use x=\"191.783203\" xlink:href=\"#DejaVuSans-109\"/>\n       <use x=\"289.195312\" xlink:href=\"#DejaVuSans-115\"/>\n      </g>\n     </g>\n    </g>\n    <g id=\"ytick_3\">\n     <g id=\"line2d_8\">\n      <g>\n       <use style=\"stroke:#000000;stroke-width:0.8;\" x=\"68.742188\" xlink:href=\"#m9d2bd259cc\" y=\"119.719219\"/>\n      </g>\n     </g>\n     <g id=\"text_8\">\n      <!-- Bathrooms -->\n      <g transform=\"translate(7.2 123.518438)scale(0.1 -0.1)\">\n       <use xlink:href=\"#DejaVuSans-66\"/>\n       <use x=\"68.603516\" xlink:href=\"#DejaVuSans-97\"/>\n       <use x=\"129.882812\" xlink:href=\"#DejaVuSans-116\"/>\n       <use x=\"169.091797\" xlink:href=\"#DejaVuSans-104\"/>\n       <use x=\"232.470703\" xlink:href=\"#DejaVuSans-114\"/>\n       <use x=\"273.552734\" xlink:href=\"#DejaVuSans-111\"/>\n       <use x=\"334.734375\" xlink:href=\"#DejaVuSans-111\"/>\n       <use x=\"395.916016\" xlink:href=\"#DejaVuSans-109\"/>\n       <use x=\"493.328125\" xlink:href=\"#DejaVuSans-115\"/>\n      </g>\n     </g>\n    </g>\n    <g id=\"ytick_4\">\n     <g id=\"line2d_9\">\n      <g>\n       <use style=\"stroke:#000000;stroke-width:0.8;\" x=\"68.742188\" xlink:href=\"#m9d2bd259cc\" y=\"173.287219\"/>\n      </g>\n     </g>\n     <g id=\"text_9\">\n      <!-- Car Parks -->\n      <g transform=\"translate(14.079687 177.086438)scale(0.1 -0.1)\">\n       <use xlink:href=\"#DejaVuSans-67\"/>\n       <use x=\"69.824219\" xlink:href=\"#DejaVuSans-97\"/>\n       <use x=\"131.103516\" xlink:href=\"#DejaVuSans-114\"/>\n       <use x=\"172.216797\" xlink:href=\"#DejaVuSans-32\"/>\n       <use x=\"204.003906\" xlink:href=\"#DejaVuSans-80\"/>\n       <use x=\"264.244141\" xlink:href=\"#DejaVuSans-97\"/>\n       <use x=\"325.523438\" xlink:href=\"#DejaVuSans-114\"/>\n       <use x=\"366.636719\" xlink:href=\"#DejaVuSans-107\"/>\n       <use x=\"424.546875\" xlink:href=\"#DejaVuSans-115\"/>\n      </g>\n     </g>\n    </g>\n    <g id=\"ytick_5\">\n     <g id=\"line2d_10\">\n      <g>\n       <use style=\"stroke:#000000;stroke-width:0.8;\" x=\"68.742188\" xlink:href=\"#m9d2bd259cc\" y=\"226.855219\"/>\n      </g>\n     </g>\n     <g id=\"text_10\">\n      <!-- Built_Size -->\n      <g transform=\"translate(13.539062 230.654438)scale(0.1 -0.1)\">\n       <use xlink:href=\"#DejaVuSans-66\"/>\n       <use x=\"68.603516\" xlink:href=\"#DejaVuSans-117\"/>\n       <use x=\"131.982422\" xlink:href=\"#DejaVuSans-105\"/>\n       <use x=\"159.765625\" xlink:href=\"#DejaVuSans-108\"/>\n       <use x=\"187.548828\" xlink:href=\"#DejaVuSans-116\"/>\n       <use x=\"226.757812\" xlink:href=\"#DejaVuSans-95\"/>\n       <use x=\"276.757812\" xlink:href=\"#DejaVuSans-83\"/>\n       <use x=\"340.234375\" xlink:href=\"#DejaVuSans-105\"/>\n       <use x=\"368.017578\" xlink:href=\"#DejaVuSans-122\"/>\n       <use x=\"420.507812\" xlink:href=\"#DejaVuSans-101\"/>\n      </g>\n     </g>\n    </g>\n   </g>\n  </g>\n  <g id=\"axes_2\">\n   <g id=\"patch_3\">\n    <path clip-path=\"url(#pe43b2bf3c1)\" d=\"M 353.322188 228.439219 \nL 353.322188 227.352019 \nL 353.322188 12.086419 \nL 353.322188 10.999219 \nL 364.194188 10.999219 \nL 364.194188 12.086419 \nL 364.194188 227.352019 \nL 364.194188 228.439219 \nz\n\" style=\"fill:#ffffff;stroke:#ffffff;stroke-linejoin:miter;stroke-width:0.01;\"/>\n   </g>\n   <image height=\"217\" id=\"image4003be8a45\" transform=\"scale(1 -1)translate(0 -217)\" width=\"11\" x=\"353\" xlink:href=\"data:image/png;base64,\niVBORw0KGgoAAAANSUhEUgAAAAsAAADZCAYAAAD2WsoCAAAABHNCSVQICAgIfAhkiAAAAV1JREFUaIHtmEEOQiEQQ+GD8U7ewxN7KqOAS13OM3nJkHzXDemU0um3Pu63VYK/Xo4axZZeKwCXeoCTjwZO1jgzGmxAAC6Ic4tzjnPgNJAaDamhSUcuBXpjOxrMGywK0IDAz/ANelHAEsmLgm6d7Bkpx3VrkQuvm0WBlaLa64be8Ab0IvcsVL9gK5HotsrQvszr1gqVWFyJRb0FBCM3RQn0vCG+lBSFKos3kpSTNIUKrIlKvKFlHf2URjQyDNif/RoGIzVO8N/g/mqXOHjM8B+Bpa9lgScCE86zWJzfY5KTw1hGg3kDqTEnGBDcCdR5MBobWtTizLzhRQGTjumcw6ILRQFSI4ylrgPSiSEDo2C/bQXjK4w1U5RsK+aNNDqfFv2Ch0cDqEG3FfEzOTmJRbXG2N+MhmfRMJYuoBxRAHUOY93immNbkULlhYxY1dCAG24rs/NLJ4ve8JJf88YHgGkTkT7HA4AAAAAASUVORK5CYII=\" y=\"-11\"/>\n   <g id=\"matplotlib.axis_3\"/>\n   <g id=\"matplotlib.axis_4\">\n    <g id=\"ytick_6\">\n     <g id=\"line2d_11\">\n      <defs>\n       <path d=\"M 0 0 \nL 3.5 0 \n\" id=\"m366ba7cc20\" style=\"stroke:#000000;stroke-width:0.8;\"/>\n      </defs>\n      <g>\n       <use style=\"stroke:#000000;stroke-width:0.8;\" x=\"364.194188\" xlink:href=\"#m366ba7cc20\" y=\"222.231845\"/>\n      </g>\n     </g>\n     <g id=\"text_11\">\n      <!-- 0.0 -->\n      <defs>\n       <path d=\"M 31.78125 66.40625 \nQ 24.171875 66.40625 20.328125 58.90625 \nQ 16.5 51.421875 16.5 36.375 \nQ 16.5 21.390625 20.328125 13.890625 \nQ 24.171875 6.390625 31.78125 6.390625 \nQ 39.453125 6.390625 43.28125 13.890625 \nQ 47.125 21.390625 47.125 36.375 \nQ 47.125 51.421875 43.28125 58.90625 \nQ 39.453125 66.40625 31.78125 66.40625 \nz\nM 31.78125 74.21875 \nQ 44.046875 74.21875 50.515625 64.515625 \nQ 56.984375 54.828125 56.984375 36.375 \nQ 56.984375 17.96875 50.515625 8.265625 \nQ 44.046875 -1.421875 31.78125 -1.421875 \nQ 19.53125 -1.421875 13.0625 8.265625 \nQ 6.59375 17.96875 6.59375 36.375 \nQ 6.59375 54.828125 13.0625 64.515625 \nQ 19.53125 74.21875 31.78125 74.21875 \nz\n\" id=\"DejaVuSans-48\"/>\n       <path d=\"M 10.6875 12.40625 \nL 21 12.40625 \nL 21 0 \nL 10.6875 0 \nz\n\" id=\"DejaVuSans-46\"/>\n      </defs>\n      <g transform=\"translate(371.194188 226.031064)scale(0.1 -0.1)\">\n       <use xlink:href=\"#DejaVuSans-48\"/>\n       <use x=\"63.623047\" xlink:href=\"#DejaVuSans-46\"/>\n       <use x=\"95.410156\" xlink:href=\"#DejaVuSans-48\"/>\n      </g>\n     </g>\n    </g>\n    <g id=\"ytick_7\">\n     <g id=\"line2d_12\">\n      <g>\n       <use style=\"stroke:#000000;stroke-width:0.8;\" x=\"364.194188\" xlink:href=\"#m366ba7cc20\" y=\"179.98532\"/>\n      </g>\n     </g>\n     <g id=\"text_12\">\n      <!-- 0.2 -->\n      <defs>\n       <path d=\"M 19.1875 8.296875 \nL 53.609375 8.296875 \nL 53.609375 0 \nL 7.328125 0 \nL 7.328125 8.296875 \nQ 12.9375 14.109375 22.625 23.890625 \nQ 32.328125 33.6875 34.8125 36.53125 \nQ 39.546875 41.84375 41.421875 45.53125 \nQ 43.3125 49.21875 43.3125 52.78125 \nQ 43.3125 58.59375 39.234375 62.25 \nQ 35.15625 65.921875 28.609375 65.921875 \nQ 23.96875 65.921875 18.8125 64.3125 \nQ 13.671875 62.703125 7.8125 59.421875 \nL 7.8125 69.390625 \nQ 13.765625 71.78125 18.9375 73 \nQ 24.125 74.21875 28.421875 74.21875 \nQ 39.75 74.21875 46.484375 68.546875 \nQ 53.21875 62.890625 53.21875 53.421875 \nQ 53.21875 48.921875 51.53125 44.890625 \nQ 49.859375 40.875 45.40625 35.40625 \nQ 44.1875 33.984375 37.640625 27.21875 \nQ 31.109375 20.453125 19.1875 8.296875 \nz\n\" id=\"DejaVuSans-50\"/>\n      </defs>\n      <g transform=\"translate(371.194188 183.784538)scale(0.1 -0.1)\">\n       <use xlink:href=\"#DejaVuSans-48\"/>\n       <use x=\"63.623047\" xlink:href=\"#DejaVuSans-46\"/>\n       <use x=\"95.410156\" xlink:href=\"#DejaVuSans-50\"/>\n      </g>\n     </g>\n    </g>\n    <g id=\"ytick_8\">\n     <g id=\"line2d_13\">\n      <g>\n       <use style=\"stroke:#000000;stroke-width:0.8;\" x=\"364.194188\" xlink:href=\"#m366ba7cc20\" y=\"137.738794\"/>\n      </g>\n     </g>\n     <g id=\"text_13\">\n      <!-- 0.4 -->\n      <defs>\n       <path d=\"M 37.796875 64.3125 \nL 12.890625 25.390625 \nL 37.796875 25.390625 \nz\nM 35.203125 72.90625 \nL 47.609375 72.90625 \nL 47.609375 25.390625 \nL 58.015625 25.390625 \nL 58.015625 17.1875 \nL 47.609375 17.1875 \nL 47.609375 0 \nL 37.796875 0 \nL 37.796875 17.1875 \nL 4.890625 17.1875 \nL 4.890625 26.703125 \nz\n\" id=\"DejaVuSans-52\"/>\n      </defs>\n      <g transform=\"translate(371.194188 141.538013)scale(0.1 -0.1)\">\n       <use xlink:href=\"#DejaVuSans-48\"/>\n       <use x=\"63.623047\" xlink:href=\"#DejaVuSans-46\"/>\n       <use x=\"95.410156\" xlink:href=\"#DejaVuSans-52\"/>\n      </g>\n     </g>\n    </g>\n    <g id=\"ytick_9\">\n     <g id=\"line2d_14\">\n      <g>\n       <use style=\"stroke:#000000;stroke-width:0.8;\" x=\"364.194188\" xlink:href=\"#m366ba7cc20\" y=\"95.492269\"/>\n      </g>\n     </g>\n     <g id=\"text_14\">\n      <!-- 0.6 -->\n      <defs>\n       <path d=\"M 33.015625 40.375 \nQ 26.375 40.375 22.484375 35.828125 \nQ 18.609375 31.296875 18.609375 23.390625 \nQ 18.609375 15.53125 22.484375 10.953125 \nQ 26.375 6.390625 33.015625 6.390625 \nQ 39.65625 6.390625 43.53125 10.953125 \nQ 47.40625 15.53125 47.40625 23.390625 \nQ 47.40625 31.296875 43.53125 35.828125 \nQ 39.65625 40.375 33.015625 40.375 \nz\nM 52.59375 71.296875 \nL 52.59375 62.3125 \nQ 48.875 64.0625 45.09375 64.984375 \nQ 41.3125 65.921875 37.59375 65.921875 \nQ 27.828125 65.921875 22.671875 59.328125 \nQ 17.53125 52.734375 16.796875 39.40625 \nQ 19.671875 43.65625 24.015625 45.921875 \nQ 28.375 48.1875 33.59375 48.1875 \nQ 44.578125 48.1875 50.953125 41.515625 \nQ 57.328125 34.859375 57.328125 23.390625 \nQ 57.328125 12.15625 50.6875 5.359375 \nQ 44.046875 -1.421875 33.015625 -1.421875 \nQ 20.359375 -1.421875 13.671875 8.265625 \nQ 6.984375 17.96875 6.984375 36.375 \nQ 6.984375 53.65625 15.1875 63.9375 \nQ 23.390625 74.21875 37.203125 74.21875 \nQ 40.921875 74.21875 44.703125 73.484375 \nQ 48.484375 72.75 52.59375 71.296875 \nz\n\" id=\"DejaVuSans-54\"/>\n      </defs>\n      <g transform=\"translate(371.194188 99.291488)scale(0.1 -0.1)\">\n       <use xlink:href=\"#DejaVuSans-48\"/>\n       <use x=\"63.623047\" xlink:href=\"#DejaVuSans-46\"/>\n       <use x=\"95.410156\" xlink:href=\"#DejaVuSans-54\"/>\n      </g>\n     </g>\n    </g>\n    <g id=\"ytick_10\">\n     <g id=\"line2d_15\">\n      <g>\n       <use style=\"stroke:#000000;stroke-width:0.8;\" x=\"364.194188\" xlink:href=\"#m366ba7cc20\" y=\"53.245744\"/>\n      </g>\n     </g>\n     <g id=\"text_15\">\n      <!-- 0.8 -->\n      <defs>\n       <path d=\"M 31.78125 34.625 \nQ 24.75 34.625 20.71875 30.859375 \nQ 16.703125 27.09375 16.703125 20.515625 \nQ 16.703125 13.921875 20.71875 10.15625 \nQ 24.75 6.390625 31.78125 6.390625 \nQ 38.8125 6.390625 42.859375 10.171875 \nQ 46.921875 13.96875 46.921875 20.515625 \nQ 46.921875 27.09375 42.890625 30.859375 \nQ 38.875 34.625 31.78125 34.625 \nz\nM 21.921875 38.8125 \nQ 15.578125 40.375 12.03125 44.71875 \nQ 8.5 49.078125 8.5 55.328125 \nQ 8.5 64.0625 14.71875 69.140625 \nQ 20.953125 74.21875 31.78125 74.21875 \nQ 42.671875 74.21875 48.875 69.140625 \nQ 55.078125 64.0625 55.078125 55.328125 \nQ 55.078125 49.078125 51.53125 44.71875 \nQ 48 40.375 41.703125 38.8125 \nQ 48.828125 37.15625 52.796875 32.3125 \nQ 56.78125 27.484375 56.78125 20.515625 \nQ 56.78125 9.90625 50.3125 4.234375 \nQ 43.84375 -1.421875 31.78125 -1.421875 \nQ 19.734375 -1.421875 13.25 4.234375 \nQ 6.78125 9.90625 6.78125 20.515625 \nQ 6.78125 27.484375 10.78125 32.3125 \nQ 14.796875 37.15625 21.921875 38.8125 \nz\nM 18.3125 54.390625 \nQ 18.3125 48.734375 21.84375 45.5625 \nQ 25.390625 42.390625 31.78125 42.390625 \nQ 38.140625 42.390625 41.71875 45.5625 \nQ 45.3125 48.734375 45.3125 54.390625 \nQ 45.3125 60.0625 41.71875 63.234375 \nQ 38.140625 66.40625 31.78125 66.40625 \nQ 25.390625 66.40625 21.84375 63.234375 \nQ 18.3125 60.0625 18.3125 54.390625 \nz\n\" id=\"DejaVuSans-56\"/>\n      </defs>\n      <g transform=\"translate(371.194188 57.044963)scale(0.1 -0.1)\">\n       <use xlink:href=\"#DejaVuSans-48\"/>\n       <use x=\"63.623047\" xlink:href=\"#DejaVuSans-46\"/>\n       <use x=\"95.410156\" xlink:href=\"#DejaVuSans-56\"/>\n      </g>\n     </g>\n    </g>\n    <g id=\"ytick_11\">\n     <g id=\"line2d_16\">\n      <g>\n       <use style=\"stroke:#000000;stroke-width:0.8;\" x=\"364.194188\" xlink:href=\"#m366ba7cc20\" y=\"10.999219\"/>\n      </g>\n     </g>\n     <g id=\"text_16\">\n      <!-- 1.0 -->\n      <defs>\n       <path d=\"M 12.40625 8.296875 \nL 28.515625 8.296875 \nL 28.515625 63.921875 \nL 10.984375 60.40625 \nL 10.984375 69.390625 \nL 28.421875 72.90625 \nL 38.28125 72.90625 \nL 38.28125 8.296875 \nL 54.390625 8.296875 \nL 54.390625 0 \nL 12.40625 0 \nz\n\" id=\"DejaVuSans-49\"/>\n      </defs>\n      <g transform=\"translate(371.194188 14.798437)scale(0.1 -0.1)\">\n       <use xlink:href=\"#DejaVuSans-49\"/>\n       <use x=\"63.623047\" xlink:href=\"#DejaVuSans-46\"/>\n       <use x=\"95.410156\" xlink:href=\"#DejaVuSans-48\"/>\n      </g>\n     </g>\n    </g>\n   </g>\n   <g id=\"patch_4\">\n    <path d=\"M 353.322188 228.439219 \nL 353.322188 227.352019 \nL 353.322188 12.086419 \nL 353.322188 10.999219 \nL 364.194188 10.999219 \nL 364.194188 12.086419 \nL 364.194188 227.352019 \nL 364.194188 228.439219 \nz\n\" style=\"fill:none;\"/>\n   </g>\n  </g>\n </g>\n <defs>\n  <clipPath id=\"p9d1f2c333c\">\n   <rect height=\"214.272\" width=\"267.84\" x=\"68.742188\" y=\"12.583219\"/>\n  </clipPath>\n  <clipPath id=\"pe43b2bf3c1\">\n   <rect height=\"217.44\" width=\"10.872\" x=\"353.322188\" y=\"10.999219\"/>\n  </clipPath>\n </defs>\n</svg>\n",
      "image/png": "[encoded data removed]"
     },
     "metadata": {
      "needs_background": "light"
     }
    }
   ],
   "metadata": {},
   "execution_count": 48
  },
  {
   "source": [
    "# df.loc[df['Rooms'].isnull()]\n",
    "# df['Rooms'].value_counts(dropna=False)\n",
    "# df.query('Rooms != Rooms')\n",
    "# x = df.groupby(\"Rooms\")[\"Built_Size\"].count()\n",
    "x_bigs = df[df.Rooms < 11]\n",
    "x_bigs_1 = x_bigs.groupby(\"Rooms\")[\"Built_Size\"].median()\n",
    "print(x_bigs_1.sort_values())\n",
    "# x_bigs['Built_Size'].value_counts(dropna=False)"
   ],
   "cell_type": "code",
   "outputs": [
    {
     "output_type": "stream",
     "name": "stdout",
     "text": "Rooms\n1.0      707.0\n2.0      926.0\n3.0     1100.0\n4.0     1638.0\n5.0     3660.0\n6.0     5448.0\n7.0     6700.0\n9.0     7700.0\n0.0     8500.0\n10.0    9240.0\n8.0     9705.0\nName: Built_Size, dtype: float64\n"
    }
   ],
   "metadata": {},
   "execution_count": 49
  },
  {
   "source": [
    "dt"
   ],
   "cell_type": "code",
   "outputs": [
    {
     "output_type": "error",
     "ename": "NameError",
     "evalue": "name 'dt' is not defined",
     "traceback": [
      "\u001b[0;31m---------------------------------------------------------------------------\u001b[0m",
      "\u001b[0;31mNameError\u001b[0m                                 Traceback (most recent call last)",
      "\u001b[0;32m<ipython-input-50-36673dcb6ee0>\u001b[0m in \u001b[0;36m<module>\u001b[0;34m\u001b[0m\n\u001b[0;32m----> 1\u001b[0;31m \u001b[0mdt\u001b[0m\u001b[0;34m\u001b[0m\u001b[0;34m\u001b[0m\u001b[0m\n\u001b[0m",
      "\u001b[0;31mNameError\u001b[0m: name 'dt' is not defined"
     ]
    }
   ],
   "metadata": {},
   "execution_count": 50
  },
  {
   "source": [
    "non-cateagorical values"
   ],
   "cell_type": "code",
   "outputs": [],
   "metadata": {},
   "execution_count": 0
  },
  {
   "source": [
    "# impute the catagorical values e.g. Furnishing\n",
    "\n",
    "df['Furnishing'] = df['Furnishing'].fillna('Unknown')"
   ],
   "cell_type": "code",
   "outputs": [],
   "metadata": {},
   "execution_count": 0
  },
  {
   "source": [
    "# check for null values\n",
    "df.isnull().sum()"
   ],
   "cell_type": "code",
   "outputs": [],
   "metadata": {},
   "execution_count": 0
  },
  {
   "source": [
    "# Export the imputed file into a new csv\n",
    "df.to_csv('./kl_property_data_imputed.csv')"
   ],
   "cell_type": "code",
   "outputs": [],
   "metadata": {},
   "execution_count": 0
  },
  {
   "source": [
    "# read the new data file\n",
    "dfi = pd.read_csv('./kl_property_data_imputed.csv')\n",
    "dfi.head()"
   ],
   "cell_type": "code",
   "outputs": [],
   "metadata": {},
   "execution_count": 0
  },
  {
   "source": [
    "df.describe()"
   ],
   "cell_type": "code",
   "outputs": [],
   "metadata": {},
   "execution_count": 0
  },
  {
   "source": [
    "dfi.describe()"
   ],
   "cell_type": "code",
   "outputs": [],
   "metadata": {},
   "execution_count": 0
  },
  {
   "source": [
    "\n",
    "\n",
    "\n",
    "\n",
    "\n",
    "\n",
    "\n",
    "\n",
    "\n",
    "\n",
    "\n",
    "\n",
    "\n",
    "\n",
    "\n",
    "\n",
    "\n",
    "\n",
    "\n",
    "\n",
    "\n",
    "\n",
    "\n",
    "\n",
    "\n",
    "\n",
    "\n",
    ""
   ],
   "cell_type": "code",
   "outputs": [],
   "metadata": {},
   "execution_count": 0
  }
 ]
}